{
 "cells": [
  {
   "cell_type": "markdown",
   "id": "93e7271e-2106-4ee0-80f3-e98b57e835f2",
   "metadata": {},
   "source": [
    "## ***Question 1: Customer Data Filtering***\n",
    "\n",
    "Filter customers who spent more than $200 in total:\n",
    "\n",
    "\n",
    "customers = [\n",
    "    {\"name\": \"Ali\", \"total_spent\": 150},\n",
    "    {\"name\": \"Sara\", \"total_spent\": 350},\n",
    "    {\"name\": \"Ahmed\", \"total_spent\": 220},\n",
    "    {\"name\": \"Fatima\", \"total_spent\": 180},\n",
    "    {\"name\": \"Usman\", \"total_spent\": 500}\n",
    "]\n",
    "\n",
    "#### **Expected Output:**\n",
    "\n",
    "High-value customers: ['Sara', 'Ahmed', 'Usman']"
   ]
  },
  {
   "cell_type": "markdown",
   "id": "4341c49d-e102-418b-a2b8-399b7d52cb41",
   "metadata": {},
   "source": [
    "## ***Answer No.1***"
   ]
  },
  {
   "cell_type": "code",
   "execution_count": 1,
   "id": "d714fd38-3513-41db-a615-399bcc716bfb",
   "metadata": {},
   "outputs": [],
   "source": [
    "customers = [\n",
    "    {\"name\": \"Ali\", \"total_spent\": 150},\n",
    "    {\"name\": \"Sara\", \"total_spent\": 350},\n",
    "    {\"name\": \"Ahmed\", \"total_spent\": 220},\n",
    "    {\"name\": \"Fatima\", \"total_spent\": 180},\n",
    "    {\"name\": \"Usman\", \"total_spent\": 500}\n",
    "]"
   ]
  },
  {
   "cell_type": "code",
   "execution_count": 2,
   "id": "ce7b6799-0e29-4967-9c18-634f1e47c8ba",
   "metadata": {},
   "outputs": [
    {
     "name": "stdout",
     "output_type": "stream",
     "text": [
      "High-value customers: ['Sara', 'Ahmed', 'Usman']\n"
     ]
    }
   ],
   "source": [
    "print(f\"High-value customers: {[customer[\"name\"] for customer in customers if customer['total_spent'] > 200]}\")"
   ]
  },
  {
   "cell_type": "markdown",
   "id": "8deea14a-8a84-4226-97ad-0f54750c1a7d",
   "metadata": {},
   "source": [
    "## ***Question 2: Price Conversion***\n",
    "\n",
    "Convert prices from USD to PKR (1 USD = 280 PKR):\n",
    "\n",
    "\n",
    "usd_prices = [25, 60, 120, 45, 200]\n",
    "\n",
    "\n",
    "#### **Expected Output:**\n",
    "\n",
    "\n",
    "Prices in PKR: [7000, 16800, 33600, 12600, 56000]\n"
   ]
  },
  {
   "cell_type": "markdown",
   "id": "2c58f403-50cd-4bc9-a628-27ecbd17406c",
   "metadata": {},
   "source": [
    "## ***Answer No.2***"
   ]
  },
  {
   "cell_type": "code",
   "execution_count": 3,
   "id": "2cbbb04f-0ec3-458e-9229-c66ba03a00e1",
   "metadata": {},
   "outputs": [],
   "source": [
    "usd_prices = [25, 60, 120, 45, 200]"
   ]
  },
  {
   "cell_type": "code",
   "execution_count": 4,
   "id": "2fcdca10-1659-47c9-a9bd-88b094e295cd",
   "metadata": {},
   "outputs": [
    {
     "name": "stdout",
     "output_type": "stream",
     "text": [
      "Prices in PKR: [7000, 16800, 33600, 12600, 56000]\n"
     ]
    }
   ],
   "source": [
    "print(f\"Prices in PKR: {[price*280 for price in usd_prices]}\")"
   ]
  },
  {
   "cell_type": "markdown",
   "id": "c2f7fd23-45f9-4e62-a088-4463c08d2fd6",
   "metadata": {},
   "source": [
    "## ***Question 3: Sales Commission Calculation***\n",
    "\n",
    "Calculate 15% commission only for sales above $1000:\n",
    "\n",
    "sales = [800, 1200, 4500, 6000, 300, 7500]\n",
    "\n",
    "\n",
    "#### **Expected Output:**\n",
    "\n",
    "\n",
    "Commissions: [0, 180.0, 675.0, 900.0, 0, 1125.0]\n"
   ]
  },
  {
   "cell_type": "markdown",
   "id": "64bf7666-7682-48e9-8a0a-abcb7b242474",
   "metadata": {},
   "source": [
    "## ***Answer No.3***"
   ]
  },
  {
   "cell_type": "code",
   "execution_count": 5,
   "id": "dd1c625a-0b26-477a-a354-04e8ad336655",
   "metadata": {},
   "outputs": [],
   "source": [
    "sales = [800, 1200, 4500, 6000, 300, 7500]"
   ]
  },
  {
   "cell_type": "code",
   "execution_count": 6,
   "id": "7fbce9b5-4213-4a8f-9322-ab7c6104764a",
   "metadata": {},
   "outputs": [
    {
     "name": "stdout",
     "output_type": "stream",
     "text": [
      "Commissions: [0, 180.0, 675.0, 900.0, 0, 1125.0]\n"
     ]
    }
   ],
   "source": [
    "print(f\"Commissions: {[sale * 0.15 if sale > 1000 else 0 for sale in sales]}\")    #Type the else statement before going in the loop."
   ]
  },
  {
   "cell_type": "markdown",
   "id": "6d0e7a4b-7768-413a-8e36-d36cf2306d7f",
   "metadata": {},
   "source": [
    "## ***Question 4: Customer Dictionary Creation***\n",
    "\n",
    "Create a dictionary of customer names and their spending categories:\n",
    "\n",
    "\"High\" if spent > 250\n",
    "\n",
    "\"Medium\" if spent 100-250\n",
    "\n",
    "\"Low\" if spent < 100\n",
    "\n",
    "customers = [(\"Ali\", 150), (\"Sara\", 350), (\"Ahmed\", 80), (\"Fatima\", 300)]\n",
    "\n",
    "\n",
    "#### **Expected Output:**\n",
    "\n",
    "\n",
    "{'Ali': 'Medium', 'Sara': 'High', 'Ahmed': 'Low', 'Fatima': 'High'}\n"
   ]
  },
  {
   "cell_type": "markdown",
   "id": "b7c0b948-26b9-4a6f-b06e-9cb2189ec420",
   "metadata": {},
   "source": [
    "## ***Answer No.4***"
   ]
  },
  {
   "cell_type": "code",
   "execution_count": 7,
   "id": "5b010bd9-074a-4534-9821-41786ea5f3ff",
   "metadata": {},
   "outputs": [],
   "source": [
    "customers = [(\"Ali\", 150), (\"Sara\", 350), (\"Ahmed\", 80), (\"Fatima\", 300)]"
   ]
  },
  {
   "cell_type": "code",
   "execution_count": 8,
   "id": "e3e8ba30-f8ad-4f8d-bde7-0c3bf273e3cc",
   "metadata": {},
   "outputs": [],
   "source": [
    "customer_spending_categories = {name: \"High\" if spent > 250 else \"Medium\" if spent >= 100 else \"Low\" for name, spent in customers}"
   ]
  },
  {
   "cell_type": "code",
   "execution_count": 9,
   "id": "b6452dd2-c07c-42ee-828c-686992bccc09",
   "metadata": {},
   "outputs": [
    {
     "data": {
      "text/plain": [
       "{'Ali': 'Medium', 'Sara': 'High', 'Ahmed': 'Low', 'Fatima': 'High'}"
      ]
     },
     "execution_count": 9,
     "metadata": {},
     "output_type": "execute_result"
    }
   ],
   "source": [
    "customer_spending_categories"
   ]
  },
  {
   "cell_type": "markdown",
   "id": "f0514601-08d4-46e3-916b-3a7c358a67d3",
   "metadata": {
    "jp-MarkdownHeadingCollapsed": true
   },
   "source": [
    "## ***Question 5: Unique Cities Extraction***\n",
    "\n",
    "Extract unique cities from customer data:\n",
    "\n",
    "\n",
    "customers = [\n",
    "    {\"name\": \"Ali\", \"city\": \"Lahore\"},\n",
    "    {\"name\": \"Sara\", \"city\": \"Karachi\"},\n",
    "    {\"name\": \"Ahmed\", \"city\": \"Lahore\"},\n",
    "    {\"name\": \"Fatima\", \"city\": \"Islamabad\"},\n",
    "    {\"name\": \"Usman\", \"city\": \"Karachi\"}\n",
    "]\n",
    "\n",
    "#### **Expected Output:**\n",
    "\n",
    "\n",
    "Unique cities: {'Lahore', 'Karachi', 'Islamabad'}\n"
   ]
  },
  {
   "cell_type": "markdown",
   "id": "224d06c5-bfd7-4d5d-b44e-790e9dc8441b",
   "metadata": {},
   "source": [
    "## ***Answer No.5***"
   ]
  },
  {
   "cell_type": "code",
   "execution_count": 10,
   "id": "e04d5af5-ee43-41c8-96cb-7efb7c57b1c8",
   "metadata": {},
   "outputs": [],
   "source": [
    "customers = [ \n",
    "    {\"name\": \"Ali\", \"city\": \"Lahore\"}, \n",
    "    {\"name\": \"Sara\", \"city\": \"Karachi\"}, \n",
    "    {\"name\": \"Ahmed\", \"city\": \"Lahore\"}, \n",
    "    {\"name\": \"Fatima\", \"city\": \"Islamabad\"}, \n",
    "    {\"name\": \"Usman\", \"city\": \"Karachi\"} \n",
    "]"
   ]
  },
  {
   "cell_type": "code",
   "execution_count": 11,
   "id": "f4a74ed8-a4b0-448f-b511-41df9ea7006e",
   "metadata": {},
   "outputs": [],
   "source": [
    "unique_cities = {customer[\"city\"] for customer in customers}        #Using set comprehension when acquiring unique values with just {}."
   ]
  },
  {
   "cell_type": "code",
   "execution_count": 12,
   "id": "a4097c6c-3a68-45c9-8ba7-25e23c5c658f",
   "metadata": {},
   "outputs": [
    {
     "name": "stdout",
     "output_type": "stream",
     "text": [
      "Unique cities: {'Islamabad', 'Karachi', 'Lahore'}\n"
     ]
    }
   ],
   "source": [
    "print(f\"Unique cities: {unique_cities}\")            #Cannot use f-string when using set comprehension therefore make a variable first then print it."
   ]
  },
  {
   "cell_type": "markdown",
   "id": "59caedd9-9d77-4bef-ab22-0ff26786f9e2",
   "metadata": {
    "jp-MarkdownHeadingCollapsed": true
   },
   "source": [
    "## ***Question 6: Product Rating Filter***\n",
    "\n",
    "Filter products with rating 4.0 or higher:\n",
    "\n",
    "products = [\n",
    "    {\"name\": \"Laptop\", \"rating\": 4.5},\n",
    "    {\"name\": \"Phone\", \"rating\": 3.8},\n",
    "    {\"name\": \"Tablet\", \"rating\": 4.2},\n",
    "    {\"name\": \"Watch\", \"rating\": 4.7}\n",
    "]\n",
    "\n",
    "#### **Expected Output:**\n",
    "\n",
    "\n",
    "Highly rated products: ['Laptop', 'Tablet', 'Watch']\n"
   ]
  },
  {
   "cell_type": "markdown",
   "id": "4c798435-9a8e-487e-b9dd-435ad02b9c44",
   "metadata": {},
   "source": [
    "## ***Answer No.6***"
   ]
  },
  {
   "cell_type": "code",
   "execution_count": 13,
   "id": "f8b0f5ff-8677-42b9-8ff1-2f3c3df35a32",
   "metadata": {},
   "outputs": [],
   "source": [
    "products = [ \n",
    "    {\"name\": \"Laptop\", \"rating\": 4.5}, \n",
    "    {\"name\": \"Phone\", \"rating\": 3.8}, \n",
    "    {\"name\": \"Tablet\", \"rating\": 4.2}, \n",
    "    {\"name\": \"Watch\", \"rating\": 4.7} \n",
    "]"
   ]
  },
  {
   "cell_type": "code",
   "execution_count": 14,
   "id": "77dba4a2-b666-434a-a500-04d9d3e70645",
   "metadata": {},
   "outputs": [
    {
     "name": "stdout",
     "output_type": "stream",
     "text": [
      "Highly rated products: ['Laptop', 'Tablet', 'Watch']\n"
     ]
    }
   ],
   "source": [
    "print(f\"Highly rated products: {[product['name'] for product in products if product['rating'] > 4.0]}\") "
   ]
  },
  {
   "cell_type": "markdown",
   "id": "e8f38349-6d38-459e-afd4-8ef85351bac8",
   "metadata": {},
   "source": [
    "## ***Question 7: Monthly Sales Growth Calculation***\n",
    "\n",
    "Calculate monthly growth percentage:\n",
    "\n",
    "\n",
    "monthly_sales = [50000, 55000, 60000, 65000, 70000]\n",
    "\n",
    "\n",
    "#### **Expected Output:**\n",
    "\n",
    "\n",
    "Growth percentages: [0.0, 10.0, 9.09, 8.33, 7.69]\n"
   ]
  },
  {
   "cell_type": "markdown",
   "id": "fe675b0e-a766-4475-aead-207afc86aa5b",
   "metadata": {},
   "source": [
    "## ***Answer No.7***"
   ]
  },
  {
   "cell_type": "code",
   "execution_count": 15,
   "id": "0539e8a5-807c-4d9e-9d6a-c87ab74142f9",
   "metadata": {},
   "outputs": [],
   "source": [
    "monthly_sales = [50000, 55000, 60000, 65000, 70000]"
   ]
  },
  {
   "cell_type": "code",
   "execution_count": 16,
   "id": "69dbce59-2062-4581-9e27-bc52675f180f",
   "metadata": {},
   "outputs": [],
   "source": [
    "percentage = [0.0 if i == 0 else round((monthly_sales[i] - monthly_sales[i-1]) / monthly_sales[i-1] * 100, 2) \n",
    "                                  for i in range(len(monthly_sales))]"
   ]
  },
  {
   "cell_type": "code",
   "execution_count": 17,
   "id": "0e6ca6f4-a8ad-4ffd-bac5-a4fa63d6ef1f",
   "metadata": {},
   "outputs": [
    {
     "name": "stdout",
     "output_type": "stream",
     "text": [
      "Growth percentages: [0.0, 10.0, 9.09, 8.33, 7.69]\n"
     ]
    }
   ],
   "source": [
    "print(f\"Growth percentages: {percentage}\")"
   ]
  },
  {
   "cell_type": "markdown",
   "id": "eb951040-2656-4d13-b46a-46c7615860d7",
   "metadata": {},
   "source": [
    "## ***Question 8: E-commerce Discount Calculator***\n",
    "\n",
    "Calculate discounts for products:\n",
    "\n",
    "Products with price > $100 get 20% discount\n",
    "\n",
    "Products with price $50-$100 get 10% discount\n",
    "\n",
    "Products < $50 get no discount\n",
    "\n",
    "prices = [25, 60, 120, 45, 200, 75, 30]\n",
    "\n",
    "\n",
    "#### **Expected Output:**\n",
    "\n",
    "\n",
    "Final prices after discount: [25.0, 54.0, 96.0, 45.0, 160.0, 67.5, 30.0]\n"
   ]
  },
  {
   "cell_type": "markdown",
   "id": "9240d8f8-c751-4549-bdc7-b4a3910e6b77",
   "metadata": {},
   "source": [
    "## ***Answer No.8***"
   ]
  },
  {
   "cell_type": "code",
   "execution_count": 18,
   "id": "94e65eb2-4734-404d-9862-f32448f4cfc4",
   "metadata": {},
   "outputs": [],
   "source": [
    "prices = [25, 60, 120, 45, 200, 75, 30]"
   ]
  },
  {
   "cell_type": "code",
   "execution_count": 19,
   "id": "659f2d9f-c81a-4b9f-9439-430aa3d73d37",
   "metadata": {},
   "outputs": [],
   "source": [
    "discount = [price * 0.8 if price > 100 else price * 0.9 if price >= 50 else price * 1.0 for price in prices]"
   ]
  },
  {
   "cell_type": "code",
   "execution_count": 20,
   "id": "f65027a8-acde-4eac-bc32-f808904ab745",
   "metadata": {},
   "outputs": [
    {
     "name": "stdout",
     "output_type": "stream",
     "text": [
      "Final prices after discount: [25.0, 54.0, 96.0, 45.0, 160.0, 67.5, 30.0]\n"
     ]
    }
   ],
   "source": [
    "print(f\"Final prices after discount: {discount}\")"
   ]
  },
  {
   "cell_type": "markdown",
   "id": "4c5a0556-c1cc-46d2-b76e-54b79c1c9d4d",
   "metadata": {},
   "source": [
    "## ***Question 9: Employee Bonus Calculation***\n",
    "\n",
    "Calculate 10% bonus for employees with salary > 50000:\n",
    "\n",
    "\n",
    "employees = [\n",
    "    {\"name\": \"Ali\", \"salary\": 45000},\n",
    "    {\"name\": \"Sara\", \"salary\": 65000},\n",
    "    {\"name\": \"Ahmed\", \"salary\": 55000},\n",
    "    {\"name\": \"Fatima\", \"salary\": 40000}\n",
    "]\n",
    "\n",
    "#### **Expected Output:**\n",
    "\n",
    "\n",
    "Bonus amounts: [0, 6500.0, 5500.0, 0]\n"
   ]
  },
  {
   "cell_type": "markdown",
   "id": "ecb1072c-5184-46a1-be3e-6f874cf4f49b",
   "metadata": {},
   "source": [
    "## ***Answer No.9***"
   ]
  },
  {
   "cell_type": "code",
   "execution_count": 21,
   "id": "d9f97338-8494-4d14-85bf-4c03a96490c6",
   "metadata": {},
   "outputs": [],
   "source": [
    "employees = [ \n",
    "    {\"name\": \"Ali\", \"salary\": 45000}, \n",
    "    {\"name\": \"Sara\", \"salary\": 65000}, \n",
    "    {\"name\": \"Ahmed\", \"salary\": 55000}, \n",
    "    {\"name\": \"Fatima\", \"salary\": 40000} \n",
    "]"
   ]
  },
  {
   "cell_type": "code",
   "execution_count": 22,
   "id": "3aca997b-aca4-44dc-83c0-43449ef2221a",
   "metadata": {},
   "outputs": [],
   "source": [
    "bonus = [employee['salary'] * 0.1 if employee['salary'] > 50000 else employee['salary'] * 0 for employee in employees]"
   ]
  },
  {
   "cell_type": "code",
   "execution_count": 23,
   "id": "0ff32670-0ab7-4237-bbc2-a84e830891f1",
   "metadata": {},
   "outputs": [
    {
     "name": "stdout",
     "output_type": "stream",
     "text": [
      "Bonus amounts: [0, 6500.0, 5500.0, 0]\n"
     ]
    }
   ],
   "source": [
    "print(f\"Bonus amounts: {bonus}\")"
   ]
  },
  {
   "cell_type": "markdown",
   "id": "be0ba5ea-0084-4318-9af8-fa94b31b2205",
   "metadata": {},
   "source": [
    "## ***Question 10: Data Normalization***\n",
    "\n",
    "Normalize data to range 0-1:\n",
    "\n",
    "data = [10, 20, 30, 40, 50]\n",
    "\n",
    "\n",
    "#### **Expected Output:**\n",
    "\n",
    "\n",
    "Normalized data: [0.0, 0.25, 0.5, 0.75, 1.0]\n"
   ]
  },
  {
   "cell_type": "markdown",
   "id": "331dcdde-4817-4c24-bc65-461beb51091a",
   "metadata": {},
   "source": [
    "## ***Answer No.10***"
   ]
  },
  {
   "cell_type": "code",
   "execution_count": 24,
   "id": "b640266f-6c1c-4f8b-8045-16745f1c12fb",
   "metadata": {},
   "outputs": [],
   "source": [
    "data = [10, 20, 30, 40, 50]"
   ]
  },
  {
   "cell_type": "code",
   "execution_count": 25,
   "id": "be475393-9d80-46da-9e77-fc765d3b68cd",
   "metadata": {},
   "outputs": [],
   "source": [
    "normalize = [(x - min(data)) / (max(data) - min(data)) for x in data]         #Used max-min normalized formula."
   ]
  },
  {
   "cell_type": "code",
   "execution_count": 26,
   "id": "f3457175-970b-46ec-95b0-c6248f25f9dc",
   "metadata": {},
   "outputs": [
    {
     "name": "stdout",
     "output_type": "stream",
     "text": [
      "Normalized data: [0.0, 0.25, 0.5, 0.75, 1.0]\n"
     ]
    }
   ],
   "source": [
    "print(f\"Normalized data: {normalize}\")"
   ]
  },
  {
   "cell_type": "markdown",
   "id": "e346b114-b453-4419-aaa5-8b335a155150",
   "metadata": {},
   "source": [
    "## ***Question 11: Customer Age Categories***\n",
    "\n",
    "Categorize customers by age:\n",
    "\n",
    "\"Young\" if age < 30\n",
    "\n",
    "\"Middle\" if age 30-50\n",
    "\n",
    "\"Senior\" if age > 50\n",
    "\n",
    "customers = [(\"Ali\", 25), (\"Sara\", 35), (\"Ahmed\", 55), (\"Fatima\", 28)]\n",
    "\n",
    "\n",
    "#### **Expected Output:**\n",
    "\n",
    "\n",
    "Age categories: ['Young', 'Middle', 'Senior', 'Young']\n"
   ]
  },
  {
   "cell_type": "markdown",
   "id": "f36215b2-1a29-45b4-bb4c-d6e575170f6b",
   "metadata": {},
   "source": [
    "## ***Answer No.11***"
   ]
  },
  {
   "cell_type": "code",
   "execution_count": 27,
   "id": "1537a5a8-185e-4ea9-b63b-264b8fe4b2cd",
   "metadata": {},
   "outputs": [],
   "source": [
    "customers = [(\"Ali\", 25), (\"Sara\", 35), (\"Ahmed\", 55), (\"Fatima\", 28)]"
   ]
  },
  {
   "cell_type": "code",
   "execution_count": 28,
   "id": "9ea79ac2-0297-4a3c-b631-872fd0e0e9c4",
   "metadata": {},
   "outputs": [],
   "source": [
    "age_category = [\"Senior\" if age > 50 else \n",
    "                \"Middle\" if age >= 30 else \n",
    "                \"Young\" \n",
    "                for name, age in customers]         "
   ]
  },
  {
   "cell_type": "code",
   "execution_count": 29,
   "id": "17faafb5-adca-49e7-a650-fe5cbe18eae1",
   "metadata": {},
   "outputs": [
    {
     "name": "stdout",
     "output_type": "stream",
     "text": [
      "Age categories: ['Young', 'Middle', 'Senior', 'Young']\n"
     ]
    }
   ],
   "source": [
    "print(f\"Age categories: {age_category}\")"
   ]
  },
  {
   "cell_type": "markdown",
   "id": "8df6126a-564d-48aa-918f-2c807983c345",
   "metadata": {},
   "source": [
    "## ***Question 12: Product Price Tiers***\n",
    "\n",
    "Categorize products by price:\n",
    "\n",
    "\"Budget\" if price < 50\n",
    "\n",
    "\"Standard\" if price 50-200\n",
    "\n",
    "\"Premium\" if price > 200\n",
    "\n",
    "products = [25, 60, 120, 45, 200, 75, 300]\n",
    "\n",
    "\n",
    "#### **Expected Output:**\n",
    "\n",
    "\n",
    "Price tiers: ['Budget', 'Standard', 'Standard', 'Budget', 'Standard', 'Standard', 'Premium']\n"
   ]
  },
  {
   "cell_type": "markdown",
   "id": "e85174f5-3a0d-4b2d-b371-ea6d54eb4406",
   "metadata": {},
   "source": [
    "## ***Answer No.12***"
   ]
  },
  {
   "cell_type": "code",
   "execution_count": 30,
   "id": "e8fdfb86-e9ee-4bba-ae7c-31fbffb7ffc5",
   "metadata": {},
   "outputs": [],
   "source": [
    "products = [25, 60, 120, 45, 200, 75, 300]"
   ]
  },
  {
   "cell_type": "code",
   "execution_count": 31,
   "id": "2e0f1755-3126-4790-986a-6e04144ef658",
   "metadata": {},
   "outputs": [],
   "source": [
    "Price_tiers = [\"Budget\" if price < 50 else \n",
    "                \"Standard\" if price <= 200 else \n",
    "                \"Premium\" \n",
    "                for price in products]         "
   ]
  },
  {
   "cell_type": "code",
   "execution_count": 32,
   "id": "9f508d8f-9bde-4752-ab3c-f9b4ccbc6af2",
   "metadata": {},
   "outputs": [
    {
     "name": "stdout",
     "output_type": "stream",
     "text": [
      "Price tiers: ['Budget', 'Standard', 'Standard', 'Budget', 'Standard', 'Standard', 'Premium']\n"
     ]
    }
   ],
   "source": [
    "print(f\"Price tiers: {Price_tiers}\")"
   ]
  },
  {
   "cell_type": "markdown",
   "id": "3d36f41f-e25b-4a72-9bb4-5f0dd2fcd7ce",
   "metadata": {},
   "source": [
    "## ***Question 13: Sales Performance Rating***\n",
    "\n",
    "Rate sales performance:\n",
    "\n",
    "\"Excellent\" if sales > 10000\n",
    "\n",
    "\"Good\" if sales 5000-10000\n",
    "\n",
    "\"Needs Improvement\" if sales < 5000\n",
    "\n",
    "sales = [8000, 12000, 3000, 15000, 6000]\n",
    "\n",
    "\n",
    "#### **Expected Output:**\n",
    "\n",
    "\n",
    "Performance ratings: ['Good', 'Excellent', 'Needs Improvement', 'Excellent', 'Good']\n"
   ]
  },
  {
   "cell_type": "markdown",
   "id": "24deff65-1bda-40cb-a098-4245650a9d3e",
   "metadata": {},
   "source": [
    "## ***Answer No.13***"
   ]
  },
  {
   "cell_type": "code",
   "execution_count": 33,
   "id": "8644be78-cc84-4023-87d8-d33e46e85dbd",
   "metadata": {},
   "outputs": [],
   "source": [
    "sales = [8000, 12000, 3000, 15000, 6000]"
   ]
  },
  {
   "cell_type": "code",
   "execution_count": 34,
   "id": "cbfb9b2b-aa18-47b2-8e40-a9a7d89b911f",
   "metadata": {},
   "outputs": [],
   "source": [
    "performance = [\"Needs Improvement\" if sale < 5000 else \n",
    "                \"Good\" if sale <= 10000 else \n",
    "                \"Excellent\" \n",
    "                for sale in sales]         "
   ]
  },
  {
   "cell_type": "code",
   "execution_count": 35,
   "id": "e0232341-8cd3-4696-ac11-7a52133cd975",
   "metadata": {},
   "outputs": [
    {
     "name": "stdout",
     "output_type": "stream",
     "text": [
      "Performance ratings: ['Good', 'Excellent', 'Needs Improvement', 'Excellent', 'Good']\n"
     ]
    }
   ],
   "source": [
    "print(f\"Performance ratings: {performance}\")"
   ]
  },
  {
   "cell_type": "markdown",
   "id": "796c4db5-0b1e-4ab4-a59c-8eeec6dba3f2",
   "metadata": {},
   "source": [
    "## ***Question 14: Temperature Conversion***\n",
    "\n",
    "Convert Celsius to Fahrenheit:\n",
    "\n",
    "\n",
    "celsius_temps = [0, 10, 20, 30, 40]\n",
    "\n",
    "\n",
    "#### **Expected Output:**\n",
    "\n",
    "\n",
    "Fahrenheit temps: [32.0, 50.0, 68.0, 86.0, 104.0]\n"
   ]
  },
  {
   "cell_type": "markdown",
   "id": "76c57ecf-dde5-4961-8358-b7a820afaee1",
   "metadata": {},
   "source": [
    "## ***Answer No.14***"
   ]
  },
  {
   "cell_type": "code",
   "execution_count": 36,
   "id": "4d248d02-3aa9-4e11-8427-cf145f79db6c",
   "metadata": {},
   "outputs": [],
   "source": [
    "celsius_temps = [0, 10, 20, 30, 40]"
   ]
  },
  {
   "cell_type": "code",
   "execution_count": 37,
   "id": "2d265e1a-4d21-4325-9d9c-95a3ddafbf53",
   "metadata": {},
   "outputs": [],
   "source": [
    "temp = [(i * 1.8 + 32.0) for i in celsius_temps]         "
   ]
  },
  {
   "cell_type": "code",
   "execution_count": 38,
   "id": "d332ac13-8042-4304-b71d-03b084d67429",
   "metadata": {},
   "outputs": [
    {
     "name": "stdout",
     "output_type": "stream",
     "text": [
      "Fahrenheit temps: [32.0, 50.0, 68.0, 86.0, 104.0]\n"
     ]
    }
   ],
   "source": [
    "print(f\"Fahrenheit temps: {temp}\")"
   ]
  },
  {
   "cell_type": "markdown",
   "id": "7e26ae9b-1927-4ca6-993d-43a697b0ae65",
   "metadata": {},
   "source": [
    "## ***Question 15: Data Quality Check***\n",
    "\n",
    "Identify invalid data points (negative values):\n",
    "\n",
    "\n",
    "data = [12, -5, 23, -3, 0, 18, -1, 30]\n",
    "\n",
    "\n",
    "#### **Expected Output:**\n",
    "\n",
    "\n",
    "Invalid data points: [-5, -3, -1]\n"
   ]
  },
  {
   "cell_type": "markdown",
   "id": "61ff9fde-9773-4a6f-a1c2-30dfd497d4d2",
   "metadata": {},
   "source": [
    "## ***Answer No.15***"
   ]
  },
  {
   "cell_type": "code",
   "execution_count": 39,
   "id": "e1f04157-bc1c-42d5-bdd2-75c1b2e4c1da",
   "metadata": {},
   "outputs": [],
   "source": [
    "data = [12, -5, 23, -3, 0, 18, -1, 30]"
   ]
  },
  {
   "cell_type": "code",
   "execution_count": 40,
   "id": "ef01eb91-ced0-43d3-bd7a-02380edcfcc0",
   "metadata": {},
   "outputs": [],
   "source": [
    "negatives = [points for points in data if points < 0]         "
   ]
  },
  {
   "cell_type": "code",
   "execution_count": 41,
   "id": "45f1f29f-3388-4852-9a77-43944fef1d9b",
   "metadata": {},
   "outputs": [
    {
     "name": "stdout",
     "output_type": "stream",
     "text": [
      "Invalid data points: [-5, -3, -1]\n"
     ]
    }
   ],
   "source": [
    "print(f\"Invalid data points: {negatives}\")"
   ]
  }
 ],
 "metadata": {
  "kernelspec": {
   "display_name": "Python [conda env:base] *",
   "language": "python",
   "name": "conda-base-py"
  },
  "language_info": {
   "codemirror_mode": {
    "name": "ipython",
    "version": 3
   },
   "file_extension": ".py",
   "mimetype": "text/x-python",
   "name": "python",
   "nbconvert_exporter": "python",
   "pygments_lexer": "ipython3",
   "version": "3.13.5"
  }
 },
 "nbformat": 4,
 "nbformat_minor": 5
}
