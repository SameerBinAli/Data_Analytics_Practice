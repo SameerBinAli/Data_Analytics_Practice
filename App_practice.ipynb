{
 "cells": [
  {
   "cell_type": "markdown",
   "id": "2e5a3c09-d3ea-4d09-ad54-3815a9fc5d8e",
   "metadata": {},
   "source": [
    "**Write a Python program that takes marks of 5 subjects using a loop, calculates the total and average, and prints whether the student has passed or failed (pass mark = 40 in each subject).**"
   ]
  },
  {
   "cell_type": "code",
   "execution_count": 2,
   "id": "ea8024d5-52af-42f2-9fc1-65a961b12791",
   "metadata": {},
   "outputs": [
    {
     "name": "stdout",
     "output_type": "stream",
     "text": [
      "Enter marks for 5 subjects (out of 100):\n"
     ]
    },
    {
     "name": "stdin",
     "output_type": "stream",
     "text": [
      "Enter marks for subject 1:  67\n",
      "Enter marks for subject 2:  88\n",
      "Enter marks for subject 3:  56\n",
      "Enter marks for subject 4:  91\n",
      "Enter marks for subject 5:  77\n"
     ]
    },
    {
     "name": "stdout",
     "output_type": "stream",
     "text": [
      "\n",
      "Total Marks: 379.0\n",
      "\n",
      "Total Average: 75.8\n",
      "\n",
      "Status: PASSED\n"
     ]
    }
   ],
   "source": [
    "total_marks = 0\n",
    "subjects = 5\n",
    "passed_all = True\n",
    "\n",
    "print(\"Enter marks for 5 subjects (out of 100):\")\n",
    "\n",
    "for i in range(1, subjects + 1):\n",
    "    while True:\n",
    "        try:\n",
    "            mark = float(input(f\"Enter marks for subject {i}: \"))\n",
    "            if 0 <= mark <= 100:\n",
    "                break\n",
    "            print(\"Please enter marks between 0 to 100.\")\n",
    "        except ValueError:\n",
    "            print(\"Please enter a valid number.\")\n",
    "    \n",
    "    total_marks += mark\n",
    "\n",
    "    if mark < 40:\n",
    "        passed_all = False\n",
    "        print(f\"Failed in subject {i} (Mark: {mark})\")\n",
    "\n",
    "average_marks = total_marks/subjects\n",
    "\n",
    "print(f'\\nTotal Marks: {total_marks}')\n",
    "print(f'\\nTotal Average: {average_marks}\\n')\n",
    "\n",
    "if passed_all:\n",
    "    print(\"Status: PASSED\")\n",
    "else:\n",
    "    print(\"Status: FAILED\")"
   ]
  },
  {
   "cell_type": "markdown",
   "id": "6cef7d26-094b-4131-b0c0-a41d817910ee",
   "metadata": {},
   "source": [
    "**Write a Python program that accepts 10 numbers from the user and counts how many are even and how many are odd using a loop.**"
   ]
  },
  {
   "cell_type": "code",
   "execution_count": 9,
   "id": "eedcfb91-2730-4dd3-8019-da8717c99723",
   "metadata": {},
   "outputs": [
    {
     "name": "stdin",
     "output_type": "stream",
     "text": [
      "Enter Number 1:  63\n",
      "Enter Number 2:  33\n",
      "Enter Number 3:  52\n",
      "Enter Number 4:  55\n",
      "Enter Number 5:  11\n",
      "Enter Number 6:  53\n",
      "Enter Number 7:  66\n",
      "Enter Number 8:  88\n",
      "Enter Number 9:  24\n",
      "Enter Number 10:  52\n"
     ]
    },
    {
     "name": "stdout",
     "output_type": "stream",
     "text": [
      "\n",
      "Total Even numbers: 5\n",
      "\n",
      "Total Odd numbers: 5\n"
     ]
    }
   ],
   "source": [
    "even = 0\n",
    "odd = 0\n",
    "\n",
    "for i in range(1,11):\n",
    "    number = int(input(f\"Enter Number {i}: \"))\n",
    "    if number % 2 == 0:\n",
    "        even += 1\n",
    "    else:\n",
    "        odd += 1\n",
    "\n",
    "print(f\"\\nTotal Even numbers: {even}\")\n",
    "print(f\"\\nTotal Odd numbers: {odd}\")"
   ]
  },
  {
   "cell_type": "markdown",
   "id": "8c3d0b86-165f-4882-b5cd-9df447b05441",
   "metadata": {},
   "source": [
    "**Build a Python program where a user can check balance, deposit, or withdraw money using a loop and menu system.**\n",
    "\n",
    "**Start with a default balance (e.g., 5000)**"
   ]
  },
  {
   "cell_type": "code",
   "execution_count": null,
   "id": "def34c76-b8eb-43a6-8539-0b068d2dea8c",
   "metadata": {},
   "outputs": [],
   "source": [
    "balance = 5000\n",
    "\n",
    "print(\"Welcome to simple ATM\")\n",
    "\n",
    "while True:\n",
    "    print(\"---MENU---\")\n",
    "    print(\"1- Balance | 2- Deposit | 3- Withdraw | 4- Exit\")\n",
    "    \n",
    "    choice = int(input('Please enter your choice (1 to 4):'))\n",
    "\n",
    "    if choice == 1:\n",
    "        print(f'Your balance is: {balance:.2f}')\n",
    "    \n",
    "    elif choice == 2:\n",
    "        try:\n",
    "            amount = int(input(\"Please enter your deposited amount: \"))\n",
    "            if amount < 0:\n",
    "                print(f\"Amount must be positive.\")\n",
    "            else:\n",
    "                balance += amount\n",
    "                print(f\"Amount deposited: {amount:.2f}, New balance: {balance:.2f}\")\n",
    "        except ValueError:\n",
    "            print(\"Please enter valid number.\")\n",
    "    \n",
    "    elif choice == 3:\n",
    "        try:\n",
    "            amount = int(input(\"Please enter your amount to withdraw: \"))\n",
    "            if amount < 0:\n",
    "                print(\"Amount must be positive\")\n",
    "            elif amount > balance:\n",
    "                print('Insufficient funds')\n",
    "            else:\n",
    "                balance -= amount\n",
    "                print(f\"Amount withdrawn: {amount:.2f}, New balance: {balance:.2f}\")\n",
    "        except ValueError:\n",
    "            print(\"Please enter valid number.\")\n",
    "    \n",
    "    elif choice == 4:\n",
    "        print(\"GOODBYE!\")\n",
    "        break\n",
    "    \n",
    "    else:\n",
    "        print(\"Invalid choice\") "
   ]
  },
  {
   "cell_type": "markdown",
   "id": "dd326939-c690-479d-943d-f1e01ac61b27",
   "metadata": {},
   "source": [
    "**Write a program that randomly selects a number between 1 and 20. The user has to guess the number until they get it right. Use loops and conditionals.**"
   ]
  },
  {
   "cell_type": "code",
   "execution_count": 1,
   "id": "753fb428-f8f5-4760-ae5f-6e8d2e478c21",
   "metadata": {},
   "outputs": [
    {
     "name": "stdout",
     "output_type": "stream",
     "text": [
      "Guess the number between 1 and 20: \n"
     ]
    },
    {
     "name": "stdin",
     "output_type": "stream",
     "text": [
      "Please enter the number between 1 to 20:  13\n"
     ]
    },
    {
     "name": "stdout",
     "output_type": "stream",
     "text": [
      "Too high! Try again.\n"
     ]
    },
    {
     "name": "stdin",
     "output_type": "stream",
     "text": [
      "Please enter the number between 1 to 20:  4\n"
     ]
    },
    {
     "name": "stdout",
     "output_type": "stream",
     "text": [
      "Too low! Try again.\n"
     ]
    },
    {
     "name": "stdin",
     "output_type": "stream",
     "text": [
      "Please enter the number between 1 to 20:  h\n"
     ]
    },
    {
     "name": "stdout",
     "output_type": "stream",
     "text": [
      "Please enter valid number.\n"
     ]
    },
    {
     "name": "stdin",
     "output_type": "stream",
     "text": [
      "Please enter the number between 1 to 20:  19\n"
     ]
    },
    {
     "name": "stdout",
     "output_type": "stream",
     "text": [
      "Too high! Try again.\n"
     ]
    },
    {
     "name": "stdin",
     "output_type": "stream",
     "text": [
      "Please enter the number between 1 to 20:  9\n"
     ]
    },
    {
     "name": "stdout",
     "output_type": "stream",
     "text": [
      "Congratulations! You guessed it in 4 attempts.\n"
     ]
    }
   ],
   "source": [
    "secret_number = 9\n",
    "attempts = 0\n",
    "\n",
    "print(\"Guess the number between 1 and 20: \")\n",
    "\n",
    "while True:\n",
    "    try:\n",
    "        guess = int(input(\"Please enter the number between 1 to 20: \"))\n",
    "        attempts += 1\n",
    "\n",
    "        if guess < secret_number:\n",
    "            print(\"Too low! Try again.\")\n",
    "        elif guess > secret_number:\n",
    "            print(\"Too high! Try again.\")\n",
    "        else:\n",
    "            print(f\"Congratulations! You guessed it in {attempts} attempts.\")\n",
    "            break\n",
    "    except ValueError:\n",
    "        print('Please enter valid number.')"
   ]
  },
  {
   "cell_type": "markdown",
   "id": "eb524486-3f9e-4c11-aa83-4bd684bef0a7",
   "metadata": {},
   "source": [
    "**Create a function-based calculator that performs addition, subtraction, multiplication, and division based on user input.**"
   ]
  },
  {
   "cell_type": "code",
   "execution_count": 2,
   "id": "daa59e27-ebc2-4bf8-a8cc-8eaca4a2da96",
   "metadata": {},
   "outputs": [
    {
     "name": "stdin",
     "output_type": "stream",
     "text": [
      "First number:  12\n",
      "Second number:  43\n",
      "Enter operation (+, -, *, /):  -\n"
     ]
    },
    {
     "name": "stdout",
     "output_type": "stream",
     "text": [
      "-31.0\n"
     ]
    }
   ],
   "source": [
    "def addition(a, b):\n",
    "    return a + b\n",
    "\n",
    "def subtraction (a, b):\n",
    "    return a - b\n",
    "\n",
    "def multiplication(a, b):\n",
    "    return a * b\n",
    "\n",
    "def divide(a, b):\n",
    "    return a / b\n",
    "\n",
    "a =  float(input(\"First number: \"))\n",
    "b = float(input(\"Second number: \"))\n",
    "operation = input(\"Enter operation (+, -, *, /): \")\n",
    "\n",
    "if operation == '+':\n",
    "    print(addition(a, b))\n",
    "elif operation == '-':\n",
    "    print(subtraction (a, b))\n",
    "elif operation == '*':\n",
    "    print(multiplication (a, b))\n",
    "elif operation == '/':\n",
    "    print(division (a, b))\n",
    "else:\n",
    "    print('Invalid Operation')"
   ]
  },
  {
   "cell_type": "markdown",
   "id": "96f4a8da-66e7-41b3-bda5-9a4b4cbb9a04",
   "metadata": {},
   "source": [
    "**Create a Python program where the user can enter item names and prices in a loop until they type “done”. The program should then show the total bill.**"
   ]
  },
  {
   "cell_type": "code",
   "execution_count": 4,
   "id": "674cf4f7-1e21-4e3c-996a-e2519557c058",
   "metadata": {},
   "outputs": [
    {
     "name": "stdin",
     "output_type": "stream",
     "text": [
      "Enter item:  tv\n",
      "Enter price:  66\n",
      "Enter item:  mob\n",
      "Enter price:  789\n",
      "Enter item:  done\n"
     ]
    },
    {
     "name": "stdout",
     "output_type": "stream",
     "text": [
      "\n",
      "---Your Bill---\n",
      "\n",
      "tv: 66\n",
      "\n",
      "mob: 789\n",
      "\n",
      "Total: 855\n"
     ]
    }
   ],
   "source": [
    "items = []\n",
    "total = 0\n",
    "\n",
    "while True:\n",
    "    item = input(\"Enter item: \")\n",
    "    if item.lower() == 'done':\n",
    "        break\n",
    "    price = int(input(\"Enter price: \"))\n",
    "    items.append((item, price))\n",
    "    total += price\n",
    "\n",
    "print(f\"\\n---Your Bill---\")\n",
    "for item, price in items:\n",
    "    print(f'\\n{item}: {price}')\n",
    "print(f'\\nTotal: {total}')"
   ]
  },
  {
   "cell_type": "markdown",
   "id": "eca0a438-bf82-4d88-956b-05259275e42a",
   "metadata": {},
   "source": [
    "**Create a function that checks if a given word or number is a palindrome (reads the same forward and backward).**"
   ]
  },
  {
   "cell_type": "code",
   "execution_count": 6,
   "id": "5407cdd9-ccce-4793-b480-bfc7d1a1bf67",
   "metadata": {},
   "outputs": [
    {
     "name": "stdin",
     "output_type": "stream",
     "text": [
      "Enter word/number:  radar\n"
     ]
    },
    {
     "name": "stdout",
     "output_type": "stream",
     "text": [
      "Pelindrome!\n"
     ]
    }
   ],
   "source": [
    "def pelindrome_check(text):\n",
    "    text = str(text)\n",
    "    return text == text [::-1]\n",
    "\n",
    "text = input('Enter word/number: ')\n",
    "print(\"Pelindrome!\" if pelindrome_check(text) else \"Not Pelindrome\")"
   ]
  },
  {
   "cell_type": "markdown",
   "id": "50280fee-4d2d-4c89-83db-251c316408e6",
   "metadata": {},
   "source": [
    "**Write a Python program that counts how many times each word appears in a given sentence using loops and dictionaries.**"
   ]
  },
  {
   "cell_type": "code",
   "execution_count": 9,
   "id": "13818085-e0a0-455c-9dcf-dcf2d2960d21",
   "metadata": {},
   "outputs": [
    {
     "name": "stdin",
     "output_type": "stream",
     "text": [
      "Enter sentence: i am learning python and i have practiced my test questions of python\n"
     ]
    },
    {
     "name": "stdout",
     "output_type": "stream",
     "text": [
      "\n",
      "Word frequencies:\n",
      "i: 2\n",
      "am: 1\n",
      "learning: 1\n",
      "python: 2\n",
      "and: 1\n",
      "have: 1\n",
      "practiced: 1\n",
      "my: 1\n",
      "test: 1\n",
      "questions: 1\n",
      "of: 1\n"
     ]
    }
   ],
   "source": [
    "sentence = input(\"Enter sentence:\")\n",
    "\n",
    "words = sentence.lower().split()\n",
    "\n",
    "word_count_dict = {}\n",
    "\n",
    "for word in words:\n",
    "    if word in word_count_dict:\n",
    "        word_count_dict[word] += 1\n",
    "    else:\n",
    "        word_count_dict[word] = 1\n",
    "\n",
    "print('\\nWord frequencies:')\n",
    "for word, count in word_count_dict.items():\n",
    "    print(f\"{word}: {count}\")"
   ]
  },
  {
   "cell_type": "markdown",
   "id": "3affb06f-b200-48ae-9dce-e38823b22210",
   "metadata": {},
   "source": [
    "**Create a small quiz game with at least 3 multiple-choice questions. The program should show the final score at the end.**"
   ]
  },
  {
   "cell_type": "code",
   "execution_count": null,
   "id": "36bde0cf-5808-408b-a909-13b7cf0546b1",
   "metadata": {},
   "outputs": [],
   "source": [
    "score = 0\n",
    "\n",
    "print(\"QUIZ GAME\")\n",
    "\n",
    "print(\"\\n1. What is 2 + 2?\")\n",
    "print(\"A) 3  B) 4  C) 5  D) 6\")\n",
    "ans = input(\"Your answer: \").upper()\n",
    "if ans == \"B\": score += 1\n",
    "\n",
    "print(\"\\n2. What color is the sky?\")\n",
    "print(\"A) Red  B) Green  C) Blue  D) Yellow\")\n",
    "ans = input(\"Your answer: \").upper()\n",
    "if ans == \"C\": score += 1\n",
    "\n",
    "print(\"\\n3. How many days in a week?\")\n",
    "print(\"A) 5  B) 6  C) 7  D) 8\")\n",
    "ans = input(\"Your answer: \").upper()\n",
    "if ans == \"C\": score += 1\n",
    "\n",
    "print(f\"\\nYour score: {score}/3\")"
   ]
  }
 ],
 "metadata": {
  "kernelspec": {
   "display_name": "Python [conda env:base] *",
   "language": "python",
   "name": "conda-base-py"
  },
  "language_info": {
   "codemirror_mode": {
    "name": "ipython",
    "version": 3
   },
   "file_extension": ".py",
   "mimetype": "text/x-python",
   "name": "python",
   "nbconvert_exporter": "python",
   "pygments_lexer": "ipython3",
   "version": "3.13.5"
  }
 },
 "nbformat": 4,
 "nbformat_minor": 5
}
