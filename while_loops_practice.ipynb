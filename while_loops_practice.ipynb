{
 "cells": [
  {
   "cell_type": "markdown",
   "id": "70374813-5a1a-4433-8803-1a3a9436f24d",
   "metadata": {},
   "source": [
    "## ***Question 1: Customer Feedback Analysis***\n",
    "\n",
    "A company wants to analyze customer feedback scores. Write a program that:\n",
    "\n",
    "Takes feedback scores (1-10) from users until they enter 0 to stop\n",
    "\n",
    "Uses a while True loop with break statement\n",
    "\n",
    "Calculates and displays the average feedback score\n",
    "\n",
    "#### **Expected Output:**\n",
    "\n",
    "Enter feedback score (1-10, 0 to stop): 8\n",
    "\n",
    "Enter feedback score (1-10, 0 to stop): 9\n",
    "\n",
    "Enter feedback score (1-10, 0 to stop): 7\n",
    "\n",
    "Enter feedback score (1-10, 0 to stop): 0\n",
    "\n",
    "Average feedback score: 8.0"
   ]
  },
  {
   "cell_type": "markdown",
   "id": "858e235d-0feb-4047-a7b3-2e1ddd2ccf21",
   "metadata": {},
   "source": [
    "## ***Answer No.1***"
   ]
  },
  {
   "cell_type": "code",
   "execution_count": 19,
   "id": "5656c91a-80eb-4fa9-a06a-cd52c3adc8ec",
   "metadata": {},
   "outputs": [
    {
     "name": "stdin",
     "output_type": "stream",
     "text": [
      "Enter feedback score (1-10, 0 to stop):  9\n",
      "Enter feedback score (1-10, 0 to stop):  6\n",
      "Enter feedback score (1-10, 0 to stop):  0\n"
     ]
    },
    {
     "name": "stdout",
     "output_type": "stream",
     "text": [
      "Average feedback score: 7.5\n"
     ]
    }
   ],
   "source": [
    "total_score = 0\n",
    "count = 0\n",
    "\n",
    "while True:\n",
    "    score = int(input(\"Enter feedback score (1-10, 0 to stop): \"))\n",
    "    if score == 0:\n",
    "        break\n",
    "    if score < 1 or score > 10:\n",
    "        print(\"Invalid score! Please enter a number between 1 and 10.\")\n",
    "        continue\n",
    "    total_score += score\n",
    "    count += 1\n",
    "if count > 0:\n",
    "    average = total_score/count\n",
    "    print(f\"Average feedback score: {average}\")\n",
    "else:\n",
    "    print('No score entered.')"
   ]
  },
  {
   "cell_type": "markdown",
   "id": "88811ddc-61f7-44dc-905e-b2fbf5ebdd5d",
   "metadata": {},
   "source": [
    "## ***Question 2: Data Validation System***\n",
    "\n",
    "Create a username validation system that:\n",
    "\n",
    "Keeps asking for a username until it meets criteria (6-12 characters, alphanumeric only)\n",
    "\n",
    "Uses while True with continue for invalid inputs\n",
    "\n",
    "Breaks only when valid username is entered\n",
    "\n",
    "#### **Expected Output:**\n",
    "\n",
    "\n",
    "Enter username: ab\n",
    "\n",
    "Username must be 6-12 characters. Try again.\n",
    "\n",
    "Enter username: user@name\n",
    "\n",
    "Username must be alphanumeric only. Try again.\n",
    "\n",
    "Enter username: validuser\n",
    "\n",
    "Username accepted!"
   ]
  },
  {
   "cell_type": "markdown",
   "id": "5444cd80-1f5f-4741-aed8-ba608f1b0fb9",
   "metadata": {},
   "source": [
    "## ***Answer No.2***"
   ]
  },
  {
   "cell_type": "code",
   "execution_count": 2,
   "id": "ed887d4d-eca2-4203-a608-6036b6da8232",
   "metadata": {},
   "outputs": [
    {
     "name": "stdin",
     "output_type": "stream",
     "text": [
      "Enter username:  as\n"
     ]
    },
    {
     "name": "stdout",
     "output_type": "stream",
     "text": [
      "Username must be 6-12 characters. Try again.\n"
     ]
    },
    {
     "name": "stdin",
     "output_type": "stream",
     "text": [
      "Enter username:  dfsddfg\n"
     ]
    },
    {
     "name": "stdout",
     "output_type": "stream",
     "text": [
      "Username Accepted!\n"
     ]
    }
   ],
   "source": [
    "while True:\n",
    "    username = input(\"Enter username: \")\n",
    "    if len(username) < 6 or len(username) > 12:\n",
    "        print(\"Username must be 6-12 characters. Try again.\")\n",
    "        continue\n",
    "    if not username.isalnum():\n",
    "        print(\"Username must be alphanumeric only. Try again.\")\n",
    "        continue\n",
    "    \n",
    "    print(\"Username Accepted!\")\n",
    "    break"
   ]
  },
  {
   "cell_type": "markdown",
   "id": "599955e2-4dca-458a-b80a-8bd86fa8abd6",
   "metadata": {},
   "source": [
    "## ***Question 3: Password Strength Checker***\n",
    "\n",
    "Create a password checker that:\n",
    "\n",
    "Keeps asking until a strong password is entered\n",
    "\n",
    "Strong password requirements: at least 8 chars, 1 uppercase, 1 lowercase, 1 digit\n",
    "\n",
    "Uses while True with continue for weak passwords\n",
    "\n",
    "#### **Expected Output:**\n",
    "\n",
    "\n",
    "Enter password: abc\n",
    "\n",
    "Password must be at least 8 characters. Try again.\n",
    "\n",
    "Enter password: abcdefgh\n",
    "\n",
    "Password must contain at least one uppercase letter. Try again.\n",
    "\n",
    "Enter password: Abcdefgh\n",
    "\n",
    "Password must contain at least one digit. Try again.\n",
    "\n",
    "Enter password: Abcdefgh1\n",
    "\n",
    "Strong password accepted!"
   ]
  },
  {
   "cell_type": "markdown",
   "id": "6b5b9bf8-1f98-4a33-babf-040bf3918156",
   "metadata": {},
   "source": [
    "## ***Answer No.3***"
   ]
  },
  {
   "cell_type": "code",
   "execution_count": 3,
   "id": "35c72d35-51a7-4463-ab5c-536eb05cf4ed",
   "metadata": {},
   "outputs": [
    {
     "name": "stdin",
     "output_type": "stream",
     "text": [
      "Enter password:  jnvjnANj12\n"
     ]
    },
    {
     "name": "stdout",
     "output_type": "stream",
     "text": [
      "Strong password accepted!\n"
     ]
    }
   ],
   "source": [
    "while True:\n",
    "    password = input(\"Enter password: \")\n",
    "\n",
    "    if len(password) < 8:\n",
    "        print(\"Password must be at least 8 characters. Try again.\")\n",
    "        continue\n",
    "   \n",
    "    if not any(ch.isupper() for ch in password):\n",
    "        print(\"Password must contain at least one uppercase letter. Try again.\")\n",
    "        continue\n",
    "\n",
    "    if not any(ch.islower() for ch in password):\n",
    "        print(\"Password must contain at least one lowercase letter. Try again.\")\n",
    "        continue\n",
    "\n",
    "    if not any(ch.isdigit() for ch in password):\n",
    "        print(\"Password must contain at least one digit. Try again.\")\n",
    "        continue\n",
    "\n",
    "    print(\"Strong password accepted!\")\n",
    "    break"
   ]
  },
  {
   "cell_type": "markdown",
   "id": "112735a7-ea0d-47db-b0cb-9fbff6e6efab",
   "metadata": {},
   "source": [
    "## ***Question 4: Email Validation System***\n",
    "\n",
    "Create a system that validates email addresses:\n",
    "\n",
    "Must contain '@' and '.'\n",
    "\n",
    "Must be at least 5 characters long\n",
    "\n",
    "Keep asking until valid email is entered\n",
    "\n",
    "#### **Expected Output:**\n",
    "\n",
    "\n",
    "Enter email: abc\n",
    "\n",
    "Invalid email. Try again.\n",
    "\n",
    "Enter email: abc@\n",
    "\n",
    "Invalid email. Try again.\n",
    "\n",
    "Enter email: user@domain.com\n",
    "\n",
    "Email accepted!"
   ]
  },
  {
   "cell_type": "markdown",
   "id": "ef495390-3f84-4acf-a2f8-bc98dbd7646a",
   "metadata": {},
   "source": [
    "## ***Answer No.4***"
   ]
  },
  {
   "cell_type": "code",
   "execution_count": 4,
   "id": "1d0f77e8-653a-4bf8-a8ea-b6a69bd46177",
   "metadata": {},
   "outputs": [
    {
     "name": "stdin",
     "output_type": "stream",
     "text": [
      "Enter email:  hdbhh@gmail.com\n"
     ]
    },
    {
     "name": "stdout",
     "output_type": "stream",
     "text": [
      "Email accepted!\n"
     ]
    }
   ],
   "source": [
    "while True:\n",
    "    email = input(\"Enter email: \")\n",
    "\n",
    "    if len(email) >= 5 and \"@\" in email and\".\" in email:\n",
    "        print(\"Email accepted!\")\n",
    "        break\n",
    "    else:\n",
    "        print(\"Invalid email. Try again.\")"
   ]
  },
  {
   "cell_type": "markdown",
   "id": "db23a112-a591-4227-8f8d-13614c1f7d49",
   "metadata": {
    "jp-MarkdownHeadingCollapsed": true
   },
   "source": [
    "## ***Question 5: Website Traffic Analyzer***\n",
    "\n",
    "Analyze daily website traffic data:\n",
    "\n",
    "Keep asking for daily visitors until 0 is entered\n",
    "\n",
    "Calculate total visitors, average, and days with above-average traffic\n",
    "\n",
    "Use while True loop\n",
    "\n",
    "#### **Expected Output:**\n",
    "\n",
    "\n",
    "Enter daily visitors (0 to stop): 1200\n",
    "\n",
    "Enter daily visitors (0 to stop): 1500\n",
    "\n",
    "Enter daily visitors (0 to stop): 800\n",
    "\n",
    "Enter daily visitors (0 to stop): 2000\n",
    "\n",
    "Enter daily visitors (0 to stop): 0\n",
    "\n",
    "Total visitors: 5500\n",
    "\n",
    "Average daily visitors: 1375.0\n",
    "\n",
    "Days with above-average traffic: [1500, 2000]"
   ]
  },
  {
   "cell_type": "markdown",
   "id": "1a8b4fef-bb18-4536-8c28-fbfd6c2d8186",
   "metadata": {},
   "source": [
    "## ***Answer No.5***"
   ]
  },
  {
   "cell_type": "code",
   "execution_count": 5,
   "id": "c12d01f4-4e97-43ed-be42-ce7310fcae71",
   "metadata": {},
   "outputs": [
    {
     "name": "stdin",
     "output_type": "stream",
     "text": [
      "Enter daily visitors (0 to stop):  1244\n",
      "Enter daily visitors (0 to stop):  644\n",
      "Enter daily visitors (0 to stop):  3455\n",
      "Enter daily visitors (0 to stop):  23\n",
      "Enter daily visitors (0 to stop):  2255\n",
      "Enter daily visitors (0 to stop):  0\n"
     ]
    },
    {
     "name": "stdout",
     "output_type": "stream",
     "text": [
      "Total visitors: 7621\n",
      "Average daily visitors: 1524.2\n",
      "Days with above-average traffic: [3455, 2255]\n"
     ]
    }
   ],
   "source": [
    "total_visitors = 0\n",
    "daily_count = 0\n",
    "above_average = []\n",
    "\n",
    "while True:\n",
    "    visitors = int(input(\"Enter daily visitors (0 to stop): \"))\n",
    "    if visitors == 0:\n",
    "        break\n",
    "    if visitors < 0:\n",
    "        print(\"Please enter valid number.\")\n",
    "        continue\n",
    "    if visitors > 0:\n",
    "        above_average.append(visitors)\n",
    "        total_visitors += visitors\n",
    "        daily_count += 1\n",
    "if daily_count > 0:\n",
    "    average = total_visitors/daily_count\n",
    "    days_with_above_average = [i for i in above_average if i > average]\n",
    "    print(f'Total visitors: {total_visitors}')    \n",
    "    print(f'Average daily visitors: {average}')\n",
    "    print(f'Days with above-average traffic: {days_with_above_average}')    "
   ]
  },
  {
   "cell_type": "markdown",
   "id": "a11f7dd4-bddd-4f13-9379-c65c30c1f7ad",
   "metadata": {
    "jp-MarkdownHeadingCollapsed": true
   },
   "source": [
    "## ***Question 6: Data Cleaning with While Loop***\n",
    "\n",
    "Clean a list of numbers by removing negatives and zeros:\n",
    "\n",
    "\n",
    "data = [12, 0, -5, 23, 0, 18, -3, 0, 30, 15]\n",
    "\n",
    "#### **Expected Output:**\n",
    "\n",
    "\n",
    "Cleaned data: [12, 23, 18, 30, 15]"
   ]
  },
  {
   "cell_type": "markdown",
   "id": "09e7dcd9-eeb0-46e1-8298-ab249a8232bf",
   "metadata": {},
   "source": [
    "## ***Answer No.6***"
   ]
  },
  {
   "cell_type": "code",
   "execution_count": 6,
   "id": "597bd000-dcce-4097-8c1c-8b7fe566337d",
   "metadata": {},
   "outputs": [
    {
     "name": "stdout",
     "output_type": "stream",
     "text": [
      "Cleaned data: [12, 23, 18, 30, 15]\n"
     ]
    }
   ],
   "source": [
    "data = [12, 0, -5, 23, 0, 18, -3, 0, 30, 15]\n",
    "\n",
    "cleaned_data = []\n",
    "i = 0\n",
    "\n",
    "while i < len(data):\n",
    "    if data[i] > 0:\n",
    "        cleaned_data.append(data[i])\n",
    "    i += 1\n",
    "print(f'Cleaned data: {cleaned_data}')\n"
   ]
  },
  {
   "cell_type": "markdown",
   "id": "43081169-e141-4c78-a809-df48a981fcfb",
   "metadata": {},
   "source": [
    "## ***Question 7: Inventory Analysis with Nested While Loops***\n",
    "\n",
    "Calculate total value and count items in each category:\n",
    "\n",
    "\n",
    "inventory = [\n",
    "    {\"category\": \"Electronics\", \"items\": [\n",
    "        {\"name\": \"Laptop\", \"price\": 1000, \"stock\": 5},\n",
    "        {\"name\": \"Phone\", \"price\": 500, \"stock\": 10}\n",
    "    ]},\n",
    "    {\"category\": \"Books\", \"items\": [\n",
    "        {\"name\": \"Python Guide\", \"price\": 30, \"stock\": 20},\n",
    "        {\"name\": \"Data Science\", \"price\": 45, \"stock\": 15}\n",
    "    ]}\n",
    "]\n",
    "\n",
    "#### **Expected Output:**\n",
    "\n",
    "\n",
    "Category: Electronics\n",
    "  \n",
    "  Total value: $10000\n",
    "  \n",
    "  Total items: 15\n",
    "\n",
    "Category: Books\n",
    "  \n",
    "  Total value: $1275\n",
    "  \n",
    "  Total items: 35"
   ]
  },
  {
   "cell_type": "markdown",
   "id": "16cea82f-5454-440a-ac3f-f928a7efd620",
   "metadata": {},
   "source": [
    "## ***Answer No.7***"
   ]
  },
  {
   "cell_type": "code",
   "execution_count": 7,
   "id": "75a4d9ad-8550-47ef-a794-2797c0e84513",
   "metadata": {},
   "outputs": [],
   "source": [
    "inventory = [ \n",
    "    {\n",
    "        \"category\": \"Electronics\", \"items\": [ \n",
    "            {\"name\": \"Laptop\", \"price\": 1000, \"stock\": 5}, \n",
    "            {\"name\": \"Phone\", \"price\": 500, \"stock\": 10} \n",
    "        ]\n",
    "    }, \n",
    "    {\n",
    "        \"category\": \"Books\", \"items\": [ \n",
    "            {\"name\": \"Python Guide\", \"price\": 30, \"stock\": 20}, \n",
    "            {\"name\": \"Data Science\", \"price\": 45, \"stock\": 15} \n",
    "        ]\n",
    "    } \n",
    "]\n"
   ]
  },
  {
   "cell_type": "code",
   "execution_count": 8,
   "id": "84ca35f3-4fe2-4097-8365-24ff120f6d24",
   "metadata": {},
   "outputs": [
    {
     "name": "stdout",
     "output_type": "stream",
     "text": [
      "Category: Electronics\n",
      "\n",
      "Total value: 10000\n",
      "\n",
      "Total items: 15\n",
      "\n",
      "Category: Books\n",
      "\n",
      "Total value: 1275\n",
      "\n",
      "Total items: 35\n",
      "\n"
     ]
    }
   ],
   "source": [
    "i = 0\n",
    "while i < len(inventory):\n",
    "    category = inventory[i]\n",
    "    total_value = 0\n",
    "    total_items = 0\n",
    "    \n",
    "    j = 0\n",
    "    while j < len(category['items']):\n",
    "        item = category['items'][j]\n",
    "        total_value += item['price'] * item[\"stock\"]\n",
    "        total_items += item[\"stock\"]\n",
    "        j += 1\n",
    "    print(f'Category: {category['category']}\\n')\n",
    "    print(f'Total value: {total_value}\\n')\n",
    "    print(f\"Total items: {total_items}\\n\")   \n",
    "    i += 1"
   ]
  },
  {
   "cell_type": "markdown",
   "id": "c70ece01-dee1-4499-87f8-6f7401cf583f",
   "metadata": {
    "jp-MarkdownHeadingCollapsed": true
   },
   "source": [
    "## ***Question 8: Customer Segmentation with Nested While Loops***\n",
    "\n",
    "Segment customers based on purchase history:\n",
    "\n",
    "customers = [\n",
    "    {\"name\": \"Ali\", \"purchases\": [120, 80, 50]},\n",
    "    {\"name\": \"Sara\", \"purchases\": [200, 150]},\n",
    "    {\"name\": \"Ahmed\", \"purchases\": [90, 60, 40, 30]},\n",
    "    {\"name\": \"Fatima\", \"purchases\": [300, 100, 50]}\n",
    "]\n",
    "\n",
    "#### **Expected Output:**\n",
    "\n",
    "\n",
    "Customer: Ali\n",
    "  Total spent: $250\n",
    "  Average purchase: $83.33\n",
    "  Customer segment: Silver\n",
    "\n",
    "Customer: Sara\n",
    "  Total spent: $350\n",
    "  Average purchase: $175.0\n",
    "  Customer segment: Gold\n",
    "\n",
    "Customer: Ahmed\n",
    "  Total spent: $220\n",
    "  Average purchase: $55.0\n",
    "  Customer segment: Silver\n",
    "\n",
    "Customer: Fatima\n",
    "  Total spent: $450\n",
    "  Average purchase: $150.0\n",
    "  Customer segment: Gold"
   ]
  },
  {
   "cell_type": "markdown",
   "id": "6c849f9f-1261-4a0f-a626-4a38c77eae65",
   "metadata": {},
   "source": [
    "## ***Answer No.8***"
   ]
  },
  {
   "cell_type": "code",
   "execution_count": 9,
   "id": "f1055355-71d7-49ce-85de-1031b738a737",
   "metadata": {},
   "outputs": [],
   "source": [
    "customers = [\n",
    "    {\"name\": \"Ali\", \"purchases\": [120, 80, 50]},\n",
    "    {\"name\": \"Sara\", \"purchases\": [200, 150]},\n",
    "    {\"name\": \"Ahmed\", \"purchases\": [90, 60, 40, 30]},\n",
    "    {\"name\": \"Fatima\", \"purchases\": [300, 100, 50]}\n",
    "]"
   ]
  },
  {
   "cell_type": "code",
   "execution_count": 10,
   "id": "a0cf1a2e-f56c-499a-94d5-4639d81357f5",
   "metadata": {},
   "outputs": [
    {
     "name": "stdout",
     "output_type": "stream",
     "text": [
      "Customer: Ali\n",
      "Total spent: 250\n",
      "Average purchase: 83.33\n",
      "Customer segment: Silver\n",
      "\n",
      "Customer: Sara\n",
      "Total spent: 350\n",
      "Average purchase: 175.0\n",
      "Customer segment: Gold\n",
      "\n",
      "Customer: Ahmed\n",
      "Total spent: 220\n",
      "Average purchase: 55.0\n",
      "Customer segment: Silver\n",
      "\n",
      "Customer: Fatima\n",
      "Total spent: 450\n",
      "Average purchase: 150.0\n",
      "Customer segment: Gold\n",
      "\n"
     ]
    }
   ],
   "source": [
    "i = 0\n",
    "while i < len(customers):\n",
    "    customer = customers[i]\n",
    "    purchases = customer[\"purchases\"]\n",
    "    total = 0\n",
    "\n",
    "    j = 0\n",
    "    while j < len(purchases):\n",
    "        total += purchases[j]\n",
    "        j += 1\n",
    "    average = round(total/len(purchases), 2)\n",
    "    segment = \"Gold\" if total >= 300 else \"Silver\"\n",
    "    print(f\"Customer: {customer[\"name\"]}\")\n",
    "    print(f\"Total spent: {total}\")\n",
    "    print(f'Average purchase: {average}')\n",
    "    print(f'Customer segment: {segment}\\n')\n",
    "\n",
    "    i += 1"
   ]
  },
  {
   "cell_type": "markdown",
   "id": "42e7542a-e1f3-4d13-9405-0ae1ecf5b907",
   "metadata": {
    "jp-MarkdownHeadingCollapsed": true
   },
   "source": [
    "## ***Question 9: Monthly Sales Tracker***\n",
    "\n",
    "Track monthly sales until target is reached:\n",
    "\n",
    "Ask for monthly sales until total reaches $100,000\n",
    "\n",
    "Show progress after each month\n",
    "\n",
    "#### **Expected Output:**\n",
    "\n",
    "\n",
    "Enter monthly sales: 20000\n",
    "Progress: $20000/$100000 (20.0%)\n",
    "\n",
    "Enter monthly sales: 30000\n",
    "Progress: $50000/$100000 (50.0%)\n",
    "\n",
    "Enter monthly sales: 40000\n",
    "Progress: $90000/$100000 (90.0%)\n",
    "\n",
    "Enter monthly sales: 15000\n",
    "Target reached! Total: $105000"
   ]
  },
  {
   "cell_type": "markdown",
   "id": "755feddc-2914-430a-9800-5d60304cdcf6",
   "metadata": {},
   "source": [
    "## ***Answer No.9***"
   ]
  },
  {
   "cell_type": "code",
   "execution_count": 11,
   "id": "0f371750-bb69-4874-a652-26f5ec26d1f3",
   "metadata": {},
   "outputs": [
    {
     "name": "stdin",
     "output_type": "stream",
     "text": [
      "Enter monthly sales:  7622\n"
     ]
    },
    {
     "name": "stdout",
     "output_type": "stream",
     "text": [
      "Progress: 7622/100000 7.6%\n"
     ]
    },
    {
     "name": "stdin",
     "output_type": "stream",
     "text": [
      "Enter monthly sales:  4772\n"
     ]
    },
    {
     "name": "stdout",
     "output_type": "stream",
     "text": [
      "Progress: 12394/100000 12.4%\n"
     ]
    },
    {
     "name": "stdin",
     "output_type": "stream",
     "text": [
      "Enter monthly sales:  67888\n"
     ]
    },
    {
     "name": "stdout",
     "output_type": "stream",
     "text": [
      "Progress: 80282/100000 80.3%\n"
     ]
    },
    {
     "name": "stdin",
     "output_type": "stream",
     "text": [
      "Enter monthly sales:  8264\n"
     ]
    },
    {
     "name": "stdout",
     "output_type": "stream",
     "text": [
      "Progress: 88546/100000 88.5%\n"
     ]
    },
    {
     "name": "stdin",
     "output_type": "stream",
     "text": [
      "Enter monthly sales:  2522\n"
     ]
    },
    {
     "name": "stdout",
     "output_type": "stream",
     "text": [
      "Progress: 91068/100000 91.1%\n"
     ]
    },
    {
     "name": "stdin",
     "output_type": "stream",
     "text": [
      "Enter monthly sales:  5523\n"
     ]
    },
    {
     "name": "stdout",
     "output_type": "stream",
     "text": [
      "Progress: 96591/100000 96.6%\n"
     ]
    },
    {
     "name": "stdin",
     "output_type": "stream",
     "text": [
      "Enter monthly sales:  2455\n"
     ]
    },
    {
     "name": "stdout",
     "output_type": "stream",
     "text": [
      "Progress: 99046/100000 99.0%\n"
     ]
    },
    {
     "name": "stdin",
     "output_type": "stream",
     "text": [
      "Enter monthly sales:  2424\n"
     ]
    },
    {
     "name": "stdout",
     "output_type": "stream",
     "text": [
      "Target reached! Total: $101470\n"
     ]
    }
   ],
   "source": [
    "target = 100000\n",
    "sales = 0\n",
    "\n",
    "while sales < target:\n",
    "    sale = int(input(\"Enter monthly sales: \"))\n",
    "    sales += sale\n",
    "\n",
    "    if sales < target:\n",
    "        progress = (sales/target) * 100\n",
    "        print(f'Progress: {sales}/{target} {progress:.1f}%')\n",
    "    else:\n",
    "        print(f'Target reached! Total: ${sales}')"
   ]
  },
  {
   "cell_type": "markdown",
   "id": "698be41b-399e-4cce-9027-c687bc4dd6da",
   "metadata": {
    "jp-MarkdownHeadingCollapsed": true
   },
   "source": [
    "## ***Question 10: Student Grade Calculator***\n",
    "\n",
    "Calculate grades for multiple students:\n",
    "\n",
    "Keep asking for student names and scores until 'done' is entered\n",
    "\n",
    "Calculate average and grade for each student\n",
    "\n",
    "#### **Expected Output:**\n",
    "\n",
    "\n",
    "Enter student name (or 'done' to finish): Ali\n",
    "Enter score: 85\n",
    "Enter student name (or 'done' to finish): Sara\n",
    "Enter score: 92\n",
    "Enter student name (or 'done' to finish): done\n",
    "\n",
    "Results:\n",
    "Ali: 85 (B)\n",
    "Sara: 92 (A)\n",
    "Class average: 88.5"
   ]
  },
  {
   "cell_type": "markdown",
   "id": "32d11f78-d0f5-4c50-b530-74fcc88e014c",
   "metadata": {},
   "source": [
    "## ***Answer No.10***"
   ]
  },
  {
   "cell_type": "code",
   "execution_count": 12,
   "id": "0801e5e3-4967-4711-88a5-f8bb8a2e5eea",
   "metadata": {},
   "outputs": [
    {
     "name": "stdin",
     "output_type": "stream",
     "text": [
      "Enter student name:  ali\n",
      "Enter score:  87\n",
      "Enter student name:  sara\n",
      "Enter score:  81\n",
      "Enter student name:  fahad\n",
      "Enter score:  64\n",
      "Enter student name:  done\n"
     ]
    },
    {
     "name": "stdout",
     "output_type": "stream",
     "text": [
      "\n",
      "Results:\n",
      "ali: 87.0 (B)\n",
      "sara: 81.0 (B)\n",
      "fahad: 64.0 (D)\n",
      "Class average: 77.3\n"
     ]
    }
   ],
   "source": [
    "students = []\n",
    "total = 0\n",
    "\n",
    "while True:\n",
    "    name = input(\"Enter student name: \")\n",
    "    if name.lower() == 'done':\n",
    "        break\n",
    "    score = float(input(\"Enter score: \"))\n",
    "    students.append((name, score))\n",
    "    total += score\n",
    "print(f\"\\nResults:\")\n",
    "for student in students:\n",
    "    name = student[0]\n",
    "    score = student[1]\n",
    "    if score >= 90:\n",
    "        grade = \"A\"\n",
    "    elif score >= 80:\n",
    "        grade = \"B\"\n",
    "    elif score >= 70:\n",
    "        grade = \"C\"\n",
    "    elif score >= 60:\n",
    "        grade = 'D'\n",
    "    else:\n",
    "        grade = 'F'\n",
    "    print(f\"{name}: {score} ({grade})\")\n",
    "\n",
    "if students:\n",
    "    average = total / len(students)\n",
    "    print(f\"Class average: {average:.1f}\")"
   ]
  },
  {
   "cell_type": "markdown",
   "id": "43ee8e73-bd51-4813-b7e1-38b0c93499bc",
   "metadata": {
    "jp-MarkdownHeadingCollapsed": true
   },
   "source": [
    "## ***Question 11: Product Inventory Manager***\n",
    "\n",
    "Manage product inventory with while loop:\n",
    "\n",
    "Allow adding products until user chooses to stop\n",
    "\n",
    "Track total products and total value\n",
    "\n",
    "#### **Expected Output:**\n",
    "\n",
    "\n",
    "Add product? (yes/no): yes\n",
    "\n",
    "Enter product name: Laptop\n",
    "\n",
    "Enter price: 1000\n",
    "\n",
    "Enter quantity: 5\n",
    "\n",
    "Add product? (yes/no): yes\n",
    "\n",
    "Enter product name: Phone\n",
    "\n",
    "Enter price: 500\n",
    "\n",
    "Enter quantity: 10\n",
    "\n",
    "Add product? (yes/no): no\n",
    "\n",
    "\n",
    "Total products: 15\n",
    "\n",
    "Total inventory value: $10000"
   ]
  },
  {
   "cell_type": "markdown",
   "id": "f8d6d3e4-cadd-4404-bba8-e8d2a16cf1e1",
   "metadata": {},
   "source": [
    "## ***Answer No.11***"
   ]
  },
  {
   "cell_type": "code",
   "execution_count": 13,
   "id": "689c462d-35af-40cb-81da-a3f8c00acec8",
   "metadata": {},
   "outputs": [
    {
     "name": "stdin",
     "output_type": "stream",
     "text": [
      "Add product? (yes/no):  laptop\n"
     ]
    },
    {
     "name": "stdout",
     "output_type": "stream",
     "text": [
      "Please enter 'yes' or 'no'\n"
     ]
    },
    {
     "name": "stdin",
     "output_type": "stream",
     "text": [
      "Add product? (yes/no):  yes\n",
      "Enter product name:  mobile\n",
      "Enter price:  1222\n",
      "Enter quantity:  62\n",
      "Add product? (yes/no):  yes\n",
      "Enter product name:  tv\n",
      "Enter price:  1999\n",
      "Enter quantity:  16\n",
      "Add product? (yes/no):  no\n"
     ]
    },
    {
     "name": "stdout",
     "output_type": "stream",
     "text": [
      "\n",
      "Total products: 78\n",
      "\n",
      "Total inventory value: $107748\n"
     ]
    }
   ],
   "source": [
    "total_products = 0\n",
    "total_inventory_value = 0\n",
    "\n",
    "while True:\n",
    "    asking = input('Add product? (yes/no): ')\n",
    "    if asking.lower() == \"no\":\n",
    "        break\n",
    "    elif asking != 'yes':\n",
    "        print(\"Please enter 'yes' or 'no'\")\n",
    "        continue  \n",
    "        \n",
    "    name = input('Enter product name: ')\n",
    "    price = int(input(\"Enter price: \"))\n",
    "    quantity = int(input(\"Enter quantity: \"))\n",
    "    total_products += quantity\n",
    "    total_inventory_value += (price * quantity)\n",
    "\n",
    "\n",
    "print(f'\\nTotal products: {total_products}')\n",
    "print(f'\\nTotal inventory value: ${total_inventory_value}')"
   ]
  },
  {
   "cell_type": "markdown",
   "id": "d9c4f8f8-5540-4048-8002-973d1a1c0b5a",
   "metadata": {},
   "source": [
    "## ***Question 12: Data Entry Validation System***\n",
    "\n",
    "Create a data entry system that validates:\n",
    "\n",
    "Age must be between 18-65\n",
    "\n",
    "Salary must be positive\n",
    "\n",
    "Keep asking until all data is valid\n",
    "\n",
    "\n",
    "#### **Expected Output:**\n",
    "\n",
    "\n",
    "Enter age: 15\n",
    "\n",
    "Invalid age. Must be 18-65.\n",
    "\n",
    "Enter age: 25\n",
    "\n",
    "Enter salary: -5000\n",
    "\n",
    "Invalid salary. Must be positive.\n",
    "\n",
    "Enter salary: 50000\n",
    "\n",
    "Data accepted: Age=25, Salary=50000"
   ]
  },
  {
   "cell_type": "markdown",
   "id": "87f9c864-d741-44b2-8c32-498c6b0fd864",
   "metadata": {},
   "source": [
    "## ***Answer No.12***"
   ]
  },
  {
   "cell_type": "code",
   "execution_count": 14,
   "id": "afab9397-8466-423c-9593-a8585fc8efe4",
   "metadata": {},
   "outputs": [
    {
     "name": "stdin",
     "output_type": "stream",
     "text": [
      "Enter age:  11\n"
     ]
    },
    {
     "name": "stdout",
     "output_type": "stream",
     "text": [
      "Invalid age. Must be 18-65.\n"
     ]
    },
    {
     "name": "stdin",
     "output_type": "stream",
     "text": [
      "Enter age:  19\n",
      "Enter salary:  4532\n"
     ]
    },
    {
     "name": "stdout",
     "output_type": "stream",
     "text": [
      "\n",
      "Data accepted: Age=19, Salary=4532\n"
     ]
    }
   ],
   "source": [
    "while True:\n",
    "    age = int(input('Enter age: '))\n",
    "    if age < 18 or age > 65:\n",
    "        print('Invalid age. Must be 18-65.')\n",
    "        continue\n",
    "    else:\n",
    "        break\n",
    "while True:\n",
    "    salary = int(input('Enter salary: '))\n",
    "    if salary <= 0:\n",
    "        print('Invalid salary. Must be positive.')\n",
    "        continue\n",
    "    else:\n",
    "        break\n",
    "\n",
    "print(f\"\\nData accepted: Age={age}, Salary={salary}\")        "
   ]
  },
  {
   "cell_type": "markdown",
   "id": "2953ac7d-8d81-4ce1-a142-37eea7e431bd",
   "metadata": {
    "jp-MarkdownHeadingCollapsed": true
   },
   "source": [
    "## ***Question 13: Customer Support Ticket System***\n",
    "\n",
    "Process support tickets until all are resolved:\n",
    "\n",
    "Track open tickets and resolve them one by one\n",
    "\n",
    "tickets = [\"Login issue\", \"Payment problem\", \"Technical error\"]\n",
    "\n",
    "#### **Expected Output:**\n",
    "\n",
    "\n",
    "Current tickets: ['Login issue', 'Payment problem', 'Technical error']\n",
    "\n",
    "Resolve next ticket? (yes/no): yes\n",
    "\n",
    "Resolved: Login issue\n",
    "\n",
    "Remaining tickets: ['Payment problem', 'Technical error']\n",
    "\n",
    "Resolve next ticket? (yes/no): yes\n",
    "\n",
    "Resolved: Payment problem\n",
    "\n",
    "Remaining tickets: ['Technical error']\n",
    "\n",
    "Resolve next ticket? (yes/no): yes\n",
    "\n",
    "All tickets resolved!"
   ]
  },
  {
   "cell_type": "markdown",
   "id": "0afaad40-e766-4f1e-a2b7-68b03d949fe1",
   "metadata": {},
   "source": [
    "## ***Answer No.13***"
   ]
  },
  {
   "cell_type": "code",
   "execution_count": 15,
   "id": "a5bb321b-a255-4226-88c0-dd3fc8d7b05d",
   "metadata": {},
   "outputs": [
    {
     "name": "stdout",
     "output_type": "stream",
     "text": [
      "\n",
      "Current tickets: ['Login issue', 'Payment problem', 'Technical error']\n"
     ]
    },
    {
     "name": "stdin",
     "output_type": "stream",
     "text": [
      "\n",
      "Resolve next ticket? (yes/no): yes\n"
     ]
    },
    {
     "name": "stdout",
     "output_type": "stream",
     "text": [
      "\n",
      "Resolved: Login issue\n",
      "\n",
      "Remaining tickets: ['Payment problem', 'Technical error']\n"
     ]
    },
    {
     "name": "stdin",
     "output_type": "stream",
     "text": [
      "\n",
      "Resolve next ticket? (yes/no): yes\n"
     ]
    },
    {
     "name": "stdout",
     "output_type": "stream",
     "text": [
      "\n",
      "Resolved: Payment problem\n",
      "\n",
      "Remaining tickets: ['Technical error']\n"
     ]
    },
    {
     "name": "stdin",
     "output_type": "stream",
     "text": [
      "\n",
      "Resolve next ticket? (yes/no): yes\n"
     ]
    },
    {
     "name": "stdout",
     "output_type": "stream",
     "text": [
      "\n",
      "Resolved: Technical error\n",
      "\n",
      "All tickets resolved!\n"
     ]
    }
   ],
   "source": [
    "tickets = [\"Login issue\", \"Payment problem\", \"Technical error\"]\n",
    "\n",
    "print(f'\\nCurrent tickets: {tickets}')\n",
    "\n",
    "while tickets:\n",
    "    choice = input(f'\\nResolve next ticket? (yes/no):').lower()\n",
    "    if choice == \"yes\":\n",
    "        resolved = tickets.pop(0)\n",
    "        print(f'\\nResolved: {resolved}')\n",
    "\n",
    "        if tickets:\n",
    "            print(f'\\nRemaining tickets: {tickets}')\n",
    "        else:\n",
    "            print(f'\\nAll tickets resolved!')\n",
    "    elif choice == \"no\":\n",
    "        print(f'\\nTicket resolution paused!')\n",
    "        break\n",
    "    else:\n",
    "        print(f'\\nPlease enter Yes or No!')\n"
   ]
  },
  {
   "cell_type": "markdown",
   "id": "e939de2c-c848-4c46-85d2-09a834df23d8",
   "metadata": {
    "jp-MarkdownHeadingCollapsed": true
   },
   "source": [
    "## ***Question 14: Sales Target Achievement***\n",
    "\n",
    "Track sales team performance until target achieved:\n",
    "\n",
    "Each salesperson contributes to total\n",
    "\n",
    "Stop when team target is reached\n",
    "\n",
    "#### **Expected Output:**\n",
    "\n",
    "\n",
    "Team target: $50000\n",
    "\n",
    "Enter sales amount: 15000\n",
    "\n",
    "Progress: $15000/$50000 (30.0%)\n",
    "\n",
    "Enter sales amount: 20000\n",
    "\n",
    "Progress: $35000/$50000 (70.0%)\n",
    "\n",
    "Enter sales amount: 18000\n",
    "\n",
    "Target achieved! Total: $53000"
   ]
  },
  {
   "cell_type": "markdown",
   "id": "53910da1-c4a6-4d48-935f-a0997bf81e56",
   "metadata": {},
   "source": [
    "## ***Answer No.14***"
   ]
  },
  {
   "cell_type": "code",
   "execution_count": 16,
   "id": "1cd9bb55-aab5-4180-a2fb-413e34d96853",
   "metadata": {},
   "outputs": [
    {
     "name": "stdout",
     "output_type": "stream",
     "text": [
      "Team target: $50000\n"
     ]
    },
    {
     "name": "stdin",
     "output_type": "stream",
     "text": [
      "Enter sales amount:  7643\n"
     ]
    },
    {
     "name": "stdout",
     "output_type": "stream",
     "text": [
      "Progress: $7643/$50000 (15.3%)\n"
     ]
    },
    {
     "name": "stdin",
     "output_type": "stream",
     "text": [
      "Enter sales amount:  8829\n"
     ]
    },
    {
     "name": "stdout",
     "output_type": "stream",
     "text": [
      "Progress: $16472/$50000 (32.9%)\n"
     ]
    },
    {
     "name": "stdin",
     "output_type": "stream",
     "text": [
      "Enter sales amount:  9284\n"
     ]
    },
    {
     "name": "stdout",
     "output_type": "stream",
     "text": [
      "Progress: $25756/$50000 (51.5%)\n"
     ]
    },
    {
     "name": "stdin",
     "output_type": "stream",
     "text": [
      "Enter sales amount:  24222\n"
     ]
    },
    {
     "name": "stdout",
     "output_type": "stream",
     "text": [
      "Progress: $49978/$50000 (100.0%)\n"
     ]
    },
    {
     "name": "stdin",
     "output_type": "stream",
     "text": [
      "Enter sales amount:  656\n"
     ]
    },
    {
     "name": "stdout",
     "output_type": "stream",
     "text": [
      "Target achieved! Total: $50634\n"
     ]
    }
   ],
   "source": [
    "team_target = 50000\n",
    "sale_amount = 0\n",
    "\n",
    "print('Team target: $50000')\n",
    "while sale_amount < team_target:\n",
    "    amount = int(input(\"Enter sales amount: \"))\n",
    "    \n",
    "    if amount <= 0:\n",
    "        print('Please enter valid number.')\n",
    "        continue\n",
    "        \n",
    "    sale_amount += amount\n",
    "    if sale_amount >= team_target:\n",
    "        print(f'Target achieved! Total: ${sale_amount}')\n",
    "    else:\n",
    "        progress = (sale_amount / team_target) * 100\n",
    "        print(f'Progress: ${sale_amount}/${team_target} ({progress:.1f}%)')"
   ]
  },
  {
   "cell_type": "markdown",
   "id": "ef801234-5d95-4586-9858-8cfee808aa37",
   "metadata": {
    "jp-MarkdownHeadingCollapsed": true
   },
   "source": [
    "## ***Question 15: Data Processing Pipeline***\n",
    "\n",
    "Process data through multiple validation steps:\n",
    "\n",
    "Validate length, then content, then format\n",
    "\n",
    "Use nested while loops for each validation layer\n",
    "\n",
    "#### **Expected Output:**\n",
    "\n",
    "\n",
    "Enter data: ab\n",
    "\n",
    "Too short. Minimum 5 characters.\n",
    "\n",
    "Enter data: abcde\n",
    "\n",
    "Invalid content. Must contain letters and numbers.\n",
    "\n",
    "Enter data: abcde1\n",
    "\n",
    "Invalid format. Must contain special character.\n",
    "\n",
    "Enter data: abcde1@\n",
    "\n",
    "Data accepted!"
   ]
  },
  {
   "cell_type": "markdown",
   "id": "5d692692-8ecf-44fc-b904-42b7282ad938",
   "metadata": {},
   "source": [
    "## ***Answer No.15***"
   ]
  },
  {
   "cell_type": "code",
   "execution_count": null,
   "id": "fba59556-b1cd-436c-9581-d60fbbbc059e",
   "metadata": {},
   "outputs": [],
   "source": []
  },
  {
   "cell_type": "code",
   "execution_count": 17,
   "id": "35d211d4-ee0f-48ac-ac9f-4dde417a4646",
   "metadata": {},
   "outputs": [
    {
     "name": "stdin",
     "output_type": "stream",
     "text": [
      "Enter data:  jhk\n"
     ]
    },
    {
     "name": "stdout",
     "output_type": "stream",
     "text": [
      "Too short. Minimum 5 characters.\n"
     ]
    },
    {
     "name": "stdin",
     "output_type": "stream",
     "text": [
      "Enter data:  hkjhkl\n"
     ]
    },
    {
     "name": "stdout",
     "output_type": "stream",
     "text": [
      "Invalid content. Must contain letters and numbers.\n"
     ]
    },
    {
     "name": "stdin",
     "output_type": "stream",
     "text": [
      "Enter data:  jnjnka12\n"
     ]
    },
    {
     "name": "stdout",
     "output_type": "stream",
     "text": [
      "Invalid format. Must contain special character.\n"
     ]
    },
    {
     "name": "stdin",
     "output_type": "stream",
     "text": [
      "Enter data:  HBJkkd12%\n"
     ]
    },
    {
     "name": "stdout",
     "output_type": "stream",
     "text": [
      "Data accepted!\n"
     ]
    }
   ],
   "source": [
    "specials = \"!@#$%^&*()-_=+[]{};:'\\\",.<>?/\\\\|`~\"\n",
    "\n",
    "while True:\n",
    "    \n",
    "    while True:\n",
    "        data = input('Enter data: ')\n",
    "        if len(data) < 5:\n",
    "            print('Too short. Minimum 5 characters.')\n",
    "        else:\n",
    "            break\n",
    "    while True:\n",
    "        if not any(ch.isdigit() for ch in data) or not any(ch.isalpha() for ch in data):\n",
    "            print('Invalid content. Must contain letters and numbers.')\n",
    "            data = input('Enter data: ')\n",
    "            if len(data) < 5:\n",
    "                print('Too short. Minimum 5 characters.')\n",
    "                continue\n",
    "        else:\n",
    "            break\n",
    "    while True:\n",
    "        if not any(c in specials for c in data):\n",
    "            print('Invalid format. Must contain special character.')\n",
    "            data = input('Enter data: ')\n",
    "            if len(data) < 5:\n",
    "                print('Too short. Minimum 5 characters.')\n",
    "                continue\n",
    "            if not any(ch.isdigit() for ch in data) or not any(ch.isalpha() for ch in data):\n",
    "                print('Invalid content. Must contain letters and numbers.')\n",
    "                continue\n",
    "        else:\n",
    "            break\n",
    "    print(f'Data accepted!')\n",
    "    break"
   ]
  }
 ],
 "metadata": {
  "kernelspec": {
   "display_name": "Python [conda env:base] *",
   "language": "python",
   "name": "conda-base-py"
  },
  "language_info": {
   "codemirror_mode": {
    "name": "ipython",
    "version": 3
   },
   "file_extension": ".py",
   "mimetype": "text/x-python",
   "name": "python",
   "nbconvert_exporter": "python",
   "pygments_lexer": "ipython3",
   "version": "3.13.5"
  }
 },
 "nbformat": 4,
 "nbformat_minor": 5
}
