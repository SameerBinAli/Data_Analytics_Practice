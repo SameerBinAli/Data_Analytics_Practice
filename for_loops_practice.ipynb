{
 "cells": [
  {
   "cell_type": "markdown",
   "id": "88fb9b02-35a5-4aca-882b-dfee3074d091",
   "metadata": {},
   "source": [
    "## ***Question No.1***"
   ]
  },
  {
   "cell_type": "markdown",
   "id": "90817636-8edf-44be-85a6-8c91cf384321",
   "metadata": {},
   "source": [
    "Question 1: Two-List Synchronization\n",
    "\n",
    "Given two lists of equal length, one containing student names and the other their ages, use a for loop to create a single dictionary where each student's name is a key and their age is the corresponding value.\n",
    "\n",
    "names = [\"Ali\", \"Sara\", \"John\", \"Zara\"]\n",
    "\n",
    "ages = [22, 25, 23, 27]\n"
   ]
  },
  {
   "cell_type": "markdown",
   "id": "f0b7343e-111f-44a6-a375-8ca91359af3d",
   "metadata": {},
   "source": [
    "## ***Answer No.1***"
   ]
  },
  {
   "cell_type": "code",
   "execution_count": 1,
   "id": "d942d0fd-8cc4-44f4-a9bb-db741cfb60ea",
   "metadata": {},
   "outputs": [],
   "source": [
    "names = [\"Ali\", \"Sara\", \"John\", \"Zara\"]\n",
    "ages = [22, 25, 23, 27]\n",
    "student_dictionary = {}\n",
    "\n",
    "for name, age in zip(names, ages):             #Used Zip function for multiple iterables.\n",
    "    student_dictionary[name] = age"
   ]
  },
  {
   "cell_type": "code",
   "execution_count": 2,
   "id": "795bd3a8-86ab-450a-bf7c-d08a411f7f23",
   "metadata": {},
   "outputs": [
    {
     "data": {
      "text/plain": [
       "{'Ali': 22, 'Sara': 25, 'John': 23, 'Zara': 27}"
      ]
     },
     "execution_count": 2,
     "metadata": {},
     "output_type": "execute_result"
    }
   ],
   "source": [
    "student_dictionary"
   ]
  },
  {
   "cell_type": "markdown",
   "id": "aa8a427f-d315-4f56-b811-da49bf96e727",
   "metadata": {},
   "source": [
    "## ***Question No.2***"
   ]
  },
  {
   "cell_type": "markdown",
   "id": "e01e4be3-96c6-4c5a-87ab-e53fa160e816",
   "metadata": {},
   "source": [
    "Question 2: Categorizing Data into Bins\n",
    "\n",
    "Write a program that iterates through the list of scores. Use a for loop to count how many scores fall into three different categories: \"High\" (90-100), \"Medium\" (70-89), and \"Low\" (below 70). Store the final counts in a dictionary.\n",
    "\n",
    "scores = [95, 82, 65, 78, 90, 88, 55, 100]\n"
   ]
  },
  {
   "cell_type": "markdown",
   "id": "40ba9235-f084-4186-9e50-a3344f735b59",
   "metadata": {},
   "source": [
    "## ***Answer No.2***"
   ]
  },
  {
   "cell_type": "code",
   "execution_count": 3,
   "id": "94e09a98-2138-4ed5-ad97-fe091ef52667",
   "metadata": {},
   "outputs": [],
   "source": [
    "scores = [95, 82, 65 ,78, 90, 88, 55, 100]"
   ]
  },
  {
   "cell_type": "code",
   "execution_count": 4,
   "id": "59391797-63ae-44f7-9c62-0904b943eb28",
   "metadata": {},
   "outputs": [],
   "source": [
    "score_categories = {\"High\": 0, \"Medium\": 0, \"Low\": 0}\n",
    "\n",
    "for score in scores:\n",
    "    if score >= 90:\n",
    "        score_categories[\"High\"] +=1\n",
    "    elif score >= 70:\n",
    "        score_categories[\"Medium\"] +=1\n",
    "    else:\n",
    "        score_categories[\"Low\"] +=1        "
   ]
  },
  {
   "cell_type": "code",
   "execution_count": 5,
   "id": "f6c368a1-3608-48db-a1a4-570b6f4fc2d2",
   "metadata": {},
   "outputs": [
    {
     "data": {
      "text/plain": [
       "{'High': 3, 'Medium': 3, 'Low': 2}"
      ]
     },
     "execution_count": 5,
     "metadata": {},
     "output_type": "execute_result"
    }
   ],
   "source": [
    "score_categories"
   ]
  },
  {
   "cell_type": "markdown",
   "id": "61d774f0-26f7-4c22-91c1-c80cfb8cfd1f",
   "metadata": {},
   "source": [
    "## ***Question No.3***"
   ]
  },
  {
   "cell_type": "markdown",
   "id": "cb6d6c29-47f3-495c-8039-6fc373df2f5e",
   "metadata": {},
   "source": [
    "Question 3: Finding Missing Records\n",
    "\n",
    "You have a list of all employee IDs and a dictionary of active employees. Use a for loop to identify and print the IDs of the employees who are in the all_ids list but are NOT present in the active_employees dictionary.\n",
    "\n",
    "all_ids = [\"E001\", \"E002\", \"E003\", \"E004\"]\n",
    "\n",
    "active_employees = {\"E001\": \"Bilal\", \"E003\": \"Hina\"}\n"
   ]
  },
  {
   "cell_type": "markdown",
   "id": "cffd7c81-9262-4812-87f1-a0a3c97feb5e",
   "metadata": {},
   "source": [
    "## ***Answer No.3***"
   ]
  },
  {
   "cell_type": "code",
   "execution_count": 6,
   "id": "f3f4cf50-0419-4004-87ac-ae1fdba86c0b",
   "metadata": {},
   "outputs": [],
   "source": [
    "all_ids = [\"E001\", \"E002\", \"E003\", \"E004\"]\n",
    "\n",
    "active_employees = {\"E001\": \"Bilal\", \"E003\": \"Hina\"}"
   ]
  },
  {
   "cell_type": "code",
   "execution_count": 7,
   "id": "08e31114-05ca-496f-b4fe-ed012505d2fa",
   "metadata": {},
   "outputs": [],
   "source": [
    "inactive_employees = []\n",
    "\n",
    "for i in all_ids:\n",
    "    if i not in active_employees:\n",
    "        inactive_employees.append(i)"
   ]
  },
  {
   "cell_type": "code",
   "execution_count": 8,
   "id": "657e3c89-9508-4602-b53e-f7b1a6d20faf",
   "metadata": {},
   "outputs": [
    {
     "data": {
      "text/plain": [
       "['E002', 'E004']"
      ]
     },
     "execution_count": 8,
     "metadata": {},
     "output_type": "execute_result"
    }
   ],
   "source": [
    "inactive_employees"
   ]
  },
  {
   "cell_type": "markdown",
   "id": "5e36f42f-d3d4-4776-b645-fee5be601f75",
   "metadata": {},
   "source": [
    "## ***Question No.4***"
   ]
  },
  {
   "cell_type": "markdown",
   "id": "0419144e-3d74-40e6-880b-2546d7a2907e",
   "metadata": {},
   "source": [
    "Question 4: Conditional Summation with a Limit\n",
    "\n",
    "Loop through the list of numbers. Calculate the running total. If the total exceeds 50, print the current total and the message \"Total exceeded limit!\", then stop the loop immediately.\n",
    "\n",
    "data = [10, 15, 20, 12, 5, 8, 30]\n"
   ]
  },
  {
   "cell_type": "markdown",
   "id": "18f1def5-0d87-4f64-8e54-f62a1cb25bb8",
   "metadata": {},
   "source": [
    "## ***Answer No.4***"
   ]
  },
  {
   "cell_type": "code",
   "execution_count": 9,
   "id": "784afa75-5faa-4671-8a94-87c423da8949",
   "metadata": {},
   "outputs": [
    {
     "name": "stdout",
     "output_type": "stream",
     "text": [
      "Current Total: 57\n",
      "Total exceeded limit!\n"
     ]
    }
   ],
   "source": [
    "data = [10, 15, 20, 12, 5, 8, 30]\n",
    "\n",
    "running_total = 0\n",
    "\n",
    "for num in data:\n",
    "    running_total += num\n",
    "    if running_total > 50:\n",
    "        print(f\"Current Total: {running_total}\")\n",
    "        print(\"Total exceeded limit!\")\n",
    "        break"
   ]
  },
  {
   "cell_type": "markdown",
   "id": "6ab1f18c-400c-4002-b7da-709e533192cf",
   "metadata": {},
   "source": [
    "## ***Question No.5***"
   ]
  },
  {
   "cell_type": "markdown",
   "id": "2fe2aeae-97fa-48ab-8ecf-3e7ef54e8854",
   "metadata": {},
   "source": [
    "Question 5: String Sanitization\n",
    "\n",
    "Given a messy string, use a for loop to create a new, sanitized string that:\n",
    "\n",
    "Removes all punctuation (. , !).\n",
    "\n",
    "Replaces multiple spaces with a single space.\n",
    "\n",
    "Converts the entire string to lowercase.\n",
    "\n",
    "text = \"  Data...is, a! powerful tool  .\""
   ]
  },
  {
   "cell_type": "markdown",
   "id": "3d6c094d-e272-472f-b894-ceccbe1c4923",
   "metadata": {},
   "source": [
    "## ***Answer No.5***"
   ]
  },
  {
   "cell_type": "code",
   "execution_count": 10,
   "id": "be3be802-5e33-45fa-acc7-5d8ac31cae71",
   "metadata": {},
   "outputs": [],
   "source": [
    "text = \" Data...is, a! powerful tool .\""
   ]
  },
  {
   "cell_type": "code",
   "execution_count": 11,
   "id": "50c075c1-c035-41f6-b272-6546f9f7530a",
   "metadata": {},
   "outputs": [],
   "source": [
    "clean_text = \"\"                              #First Initialized an empty string variable to store result.\n",
    "\n",
    "for character in text.lower():               #Started the loop and used lower func while defining the loop.\n",
    "    if character in \",.!\":          \n",
    "        character = \" \"                      #If found the unnecessary characters then replace them with single space.\n",
    "    clean_text += character\n",
    "\n",
    "clean_text = \" \".join(clean_text.split())    #Used the join and split function simultaneously."
   ]
  },
  {
   "cell_type": "code",
   "execution_count": 12,
   "id": "42299cce-f044-4047-be4f-01fd81a140ac",
   "metadata": {},
   "outputs": [
    {
     "data": {
      "text/plain": [
       "'data is a powerful tool'"
      ]
     },
     "execution_count": 12,
     "metadata": {},
     "output_type": "execute_result"
    }
   ],
   "source": [
    "clean_text"
   ]
  },
  {
   "cell_type": "markdown",
   "id": "ba9201de-1c46-40e3-8cb8-ee4a37b76899",
   "metadata": {},
   "source": [
    "## ***Question No.6***"
   ]
  },
  {
   "cell_type": "markdown",
   "id": "dbfc893a-4eda-48f6-bd83-06af11a8e8d1",
   "metadata": {},
   "source": [
    "Question 6: Complex Filtering of a Dictionary List\n",
    "\n",
    "Iterate through the list of products. Using a for loop, print the name and price of any product that is both \"in stock\" AND has a price lower than $50.\n",
    "\n",
    "products = [\n",
    "    {\"name\": \"Mouse\", \"price\": 45, \"in_stock\": True},\n",
    "    {\"name\": \"Keyboard\", \"price\": 60, \"in_stock\": False},\n",
    "    {\"name\": \"Webcam\", \"price\": 48, \"in_stock\": True},\n",
    "    {\"name\": \"Monitor\", \"price\": 120, \"in_stock\": True}\n",
    "]\n"
   ]
  },
  {
   "cell_type": "markdown",
   "id": "556c3af6-ceb3-4df4-9dd1-dc5333630dfb",
   "metadata": {},
   "source": [
    "## ***Answer No.6***"
   ]
  },
  {
   "cell_type": "code",
   "execution_count": 13,
   "id": "f55ea9a3-f3f6-4cae-a040-e4a3240f56cd",
   "metadata": {},
   "outputs": [],
   "source": [
    "products = [ \n",
    "    {\"name\": \"Mouse\", \"price\": 45, \"in_stock\": True}, \n",
    "    {\"name\": \"Keyboard\", \"price\": 60, \"in_stock\": False}, \n",
    "    {\"name\": \"Webcam\", \"price\": 48, \"in_stock\": True}, \n",
    "    {\"name\": \"Monitor\", \"price\": 120, \"in_stock\": True} \n",
    "]"
   ]
  },
  {
   "cell_type": "code",
   "execution_count": 14,
   "id": "286af32f-fd63-4736-90df-bccbf7eed3fc",
   "metadata": {},
   "outputs": [
    {
     "name": "stdout",
     "output_type": "stream",
     "text": [
      "Name of Product: Monitor\n",
      "Price of Product: 120\n"
     ]
    }
   ],
   "source": [
    "for product in products:\n",
    "    if product[\"price\"] > 50 and product[\"in_stock\"]:\n",
    "        print(f\"Name of Product: {product['name']}\\nPrice of Product: {product['price']}\")"
   ]
  },
  {
   "cell_type": "markdown",
   "id": "850b3ead-859f-4d2d-a87e-af946ad09fee",
   "metadata": {},
   "source": [
    "## ***Question No.7***"
   ]
  },
  {
   "cell_type": "markdown",
   "id": "4f28dd7b-249e-4d56-baea-c16dba8849a8",
   "metadata": {},
   "source": [
    "Question 7: Dynamic Dictionary Update\n",
    "\n",
    "Given the sales dictionary below, iterate through its items. If a product's value (sales) is less than 500, increase its sales value by 10%.\n",
    "\n",
    "Print the updated dictionary at the end.\n",
    "\n",
    "sales = {\"product_a\": 450, \"product_b\": 600, \"product_c\": 300, \"product_d\": 800}"
   ]
  },
  {
   "cell_type": "markdown",
   "id": "291b1daa-9e6c-44bc-9f9e-7551f798fdf9",
   "metadata": {},
   "source": [
    "## ***Answer No.7***"
   ]
  },
  {
   "cell_type": "code",
   "execution_count": 15,
   "id": "6313d659-bc98-49d9-b419-4692425928bd",
   "metadata": {},
   "outputs": [],
   "source": [
    "sales = {\"product_a\": 450, \"product_b\": 600, \"product_c\": 300, \"product_d\": 800}"
   ]
  },
  {
   "cell_type": "code",
   "execution_count": 16,
   "id": "a0736d8e-f841-45c0-ba79-97eea6c09933",
   "metadata": {},
   "outputs": [
    {
     "name": "stdout",
     "output_type": "stream",
     "text": [
      "Updated Sales: {'product_a': 495, 'product_b': 600, 'product_c': 330, 'product_d': 800}\n"
     ]
    }
   ],
   "source": [
    "for product, sale in sales.items():\n",
    "    if sale < 500:\n",
    "        sales[product] = round(sale * 1.10)\n",
    "\n",
    "print(\"Updated Sales:\", sales)"
   ]
  },
  {
   "cell_type": "markdown",
   "id": "481ab80a-d500-4984-8b19-0382b9c0a07b",
   "metadata": {},
   "source": [
    "## ***Question No.8***"
   ]
  },
  {
   "cell_type": "markdown",
   "id": "e306656f-ca48-43d6-b03b-a2a5bfc485a3",
   "metadata": {},
   "source": [
    "Question 8: Creating a New List with a Condition\n",
    "\n",
    "Create a new list containing only the square of each even number from the original list. Odd numbers should be skipped.\n",
    "\n",
    "numbers = [1, 2, 3, 4, 5, 6, 7, 8, 9, 10]\n",
    "\n"
   ]
  },
  {
   "cell_type": "markdown",
   "id": "b88f4a7e-ecd9-4800-a58e-c6a9f7239e3e",
   "metadata": {},
   "source": [
    "## ***Answer No.8***"
   ]
  },
  {
   "cell_type": "code",
   "execution_count": 17,
   "id": "74f6001b-5132-4966-8d74-75827d9310ab",
   "metadata": {},
   "outputs": [],
   "source": [
    "numbers = [1, 2, 3, 4, 5, 6, 7, 8, 9, 10]"
   ]
  },
  {
   "cell_type": "code",
   "execution_count": 18,
   "id": "8e39f273-3420-476a-85f4-bedfb52b625b",
   "metadata": {},
   "outputs": [],
   "source": [
    "new = []\n",
    "\n",
    "for number in numbers:\n",
    "    if number % 2 == 0:\n",
    "       new.append(number**2)\n"
   ]
  },
  {
   "cell_type": "code",
   "execution_count": 19,
   "id": "4a774afe-c445-4930-80be-6cb22f2137d1",
   "metadata": {},
   "outputs": [
    {
     "data": {
      "text/plain": [
       "[4, 16, 36, 64, 100]"
      ]
     },
     "execution_count": 19,
     "metadata": {},
     "output_type": "execute_result"
    }
   ],
   "source": [
    "new"
   ]
  }
 ],
 "metadata": {
  "kernelspec": {
   "display_name": "Python [conda env:base] *",
   "language": "python",
   "name": "conda-base-py"
  },
  "language_info": {
   "codemirror_mode": {
    "name": "ipython",
    "version": 3
   },
   "file_extension": ".py",
   "mimetype": "text/x-python",
   "name": "python",
   "nbconvert_exporter": "python",
   "pygments_lexer": "ipython3",
   "version": "3.13.5"
  }
 },
 "nbformat": 4,
 "nbformat_minor": 5
}
