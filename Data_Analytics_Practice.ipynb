{
 "cells": [
  {
   "cell_type": "markdown",
   "id": "212b1326-084a-447d-9596-ff75676fc52b",
   "metadata": {},
   "source": [
    "## ***Question No.1***"
   ]
  },
  {
   "cell_type": "markdown",
   "id": "a566b986-3814-426e-b54e-288dcb30e55c",
   "metadata": {},
   "source": [
    "Q1.\n",
    "\n",
    "You are given a string:\n",
    "\n",
    "text = \"DataAnalytics\"\n",
    "\n",
    "\n",
    "Print the first 4 characters.\n",
    "\n",
    "Print the last 5 characters using negative indexing."
   ]
  },
  {
   "cell_type": "markdown",
   "id": "6a6fe546-6119-42c2-b475-599a35359c5a",
   "metadata": {},
   "source": [
    "## ***Answer No.1***"
   ]
  },
  {
   "cell_type": "code",
   "execution_count": 1,
   "id": "0f935ccf-ad13-419d-a95f-cd522052e104",
   "metadata": {},
   "outputs": [],
   "source": [
    "text = \"DataAnalytics\""
   ]
  },
  {
   "cell_type": "code",
   "execution_count": 2,
   "id": "3e12e299-7aba-4e72-ba62-f60faa958ec7",
   "metadata": {},
   "outputs": [
    {
     "name": "stdout",
     "output_type": "stream",
     "text": [
      "Data\n"
     ]
    }
   ],
   "source": [
    "print(text[0:4])"
   ]
  },
  {
   "cell_type": "code",
   "execution_count": 3,
   "id": "9a11a3bd-85db-43fa-8968-5191cc4a563f",
   "metadata": {},
   "outputs": [
    {
     "name": "stdout",
     "output_type": "stream",
     "text": [
      "lytic\n"
     ]
    }
   ],
   "source": [
    "print(text[-6:-1])"
   ]
  },
  {
   "cell_type": "markdown",
   "id": "e5614316-bed8-4f3a-8936-b153c2bd157c",
   "metadata": {},
   "source": [
    "## ***Question No.2***"
   ]
  },
  {
   "cell_type": "markdown",
   "id": "8e06a136-878a-4630-bfc5-4c6af929f4b5",
   "metadata": {},
   "source": [
    "Q2.\n",
    "\n",
    "\n",
    "Given a dictionary:\n",
    "\n",
    "car = {\"brand\": \"Toyota\", \"model\": \"Corolla\", \"year\": 2020}\n",
    "\n",
    "\n",
    "Change the value of \"year\" to 2023.\n",
    "\n",
    "Add a new key \"color\": \"White\".\n",
    "\n",
    "Remove the key \"model\"."
   ]
  },
  {
   "cell_type": "markdown",
   "id": "fcf6e509-26f1-4657-b0e7-01472d529060",
   "metadata": {},
   "source": [
    "## ***Answer No.2***"
   ]
  },
  {
   "cell_type": "code",
   "execution_count": 4,
   "id": "8d09f7f0-8f5b-4de8-80ad-33f977fb63c2",
   "metadata": {},
   "outputs": [],
   "source": [
    "car = {\"brand\": \"Toyota\", \"model\": \"Corolla\", \"year\": 2020}"
   ]
  },
  {
   "cell_type": "code",
   "execution_count": 5,
   "id": "4038f177-7ff2-41c6-afeb-b9468d9048c2",
   "metadata": {},
   "outputs": [],
   "source": [
    "car.update({\"brand\": \"Toyota\", \"model\": \"Corolla\", \"year\": 2023})"
   ]
  },
  {
   "cell_type": "code",
   "execution_count": 6,
   "id": "359f66e6-0b22-46bb-82bc-164dec2a8ab3",
   "metadata": {},
   "outputs": [
    {
     "name": "stdout",
     "output_type": "stream",
     "text": [
      "{'brand': 'Toyota', 'model': 'Corolla', 'year': 2023}\n"
     ]
    }
   ],
   "source": [
    "print(car)"
   ]
  },
  {
   "cell_type": "code",
   "execution_count": 7,
   "id": "7ed08d4a-1520-4b2a-b0aa-95664366ed3a",
   "metadata": {},
   "outputs": [],
   "source": [
    "car[\"color\"] = \"white\""
   ]
  },
  {
   "cell_type": "code",
   "execution_count": 8,
   "id": "679c4648-a7ba-467a-a592-37f7d82eb470",
   "metadata": {},
   "outputs": [
    {
     "name": "stdout",
     "output_type": "stream",
     "text": [
      "{'brand': 'Toyota', 'model': 'Corolla', 'year': 2023, 'color': 'white'}\n"
     ]
    }
   ],
   "source": [
    "print(car)"
   ]
  },
  {
   "cell_type": "code",
   "execution_count": 9,
   "id": "18ed2be2-7a0c-4cb2-bd7e-1b78d4394191",
   "metadata": {},
   "outputs": [
    {
     "name": "stdout",
     "output_type": "stream",
     "text": [
      "Corolla\n"
     ]
    }
   ],
   "source": [
    "print(car.pop(\"model\"))"
   ]
  },
  {
   "cell_type": "code",
   "execution_count": 10,
   "id": "acf440b3-09ee-494c-a258-9e951821bd45",
   "metadata": {},
   "outputs": [
    {
     "data": {
      "text/plain": [
       "{'brand': 'Toyota', 'year': 2023, 'color': 'white'}"
      ]
     },
     "execution_count": 10,
     "metadata": {},
     "output_type": "execute_result"
    }
   ],
   "source": [
    "car"
   ]
  },
  {
   "cell_type": "markdown",
   "id": "3eab4d42-8cb2-4eca-bba3-e0caed1ba7d4",
   "metadata": {},
   "source": [
    "## ***Question No.3***"
   ]
  },
  {
   "cell_type": "markdown",
   "id": "e959c34e-a02f-49e4-8dfa-8a7591d977b4",
   "metadata": {},
   "source": [
    "You are given two lists:\n",
    "\n",
    "list1 = [1, 2, 3, 4, 5, 6]\n",
    "\n",
    "list2 = [4, 5, 6, 7, 8, 9]\n",
    "\n",
    "\n",
    "Convert both lists into sets.\n",
    "\n",
    "Find elements that are common in both lists (intersection).\n",
    "\n",
    "Find elements that are in either list1 or list2 but not both (symmetric difference).\n",
    "\n",
    "Finally, print the total number of unique elements after combining both lists."
   ]
  },
  {
   "cell_type": "markdown",
   "id": "76a5f831-7be2-4944-8728-a29eac53c403",
   "metadata": {},
   "source": [
    "## ***Answer No.3***"
   ]
  },
  {
   "cell_type": "code",
   "execution_count": 11,
   "id": "739871b5-fe9b-48e9-8146-4abf6344a27d",
   "metadata": {},
   "outputs": [],
   "source": [
    "list1 = [1, 2, 3, 4, 5, 6]"
   ]
  },
  {
   "cell_type": "code",
   "execution_count": 12,
   "id": "b9f8fb59-9ecb-442a-98c4-bfc2ca8aff91",
   "metadata": {},
   "outputs": [],
   "source": [
    "list2 = [4, 5, 6, 7, 8, 9]"
   ]
  },
  {
   "cell_type": "code",
   "execution_count": 13,
   "id": "22a6e33b-d1b7-43fd-9c77-5816a1a21023",
   "metadata": {},
   "outputs": [],
   "source": [
    "set1 = set(list1)"
   ]
  },
  {
   "cell_type": "code",
   "execution_count": 14,
   "id": "8e065a0e-69a3-41cc-b7e3-b0032cd2c832",
   "metadata": {},
   "outputs": [],
   "source": [
    "set2 = set(list2)"
   ]
  },
  {
   "cell_type": "code",
   "execution_count": 15,
   "id": "44b718ac-7738-4222-b7e0-d283ed2c5177",
   "metadata": {},
   "outputs": [
    {
     "data": {
      "text/plain": [
       "{1, 2, 3, 4, 5, 6}"
      ]
     },
     "execution_count": 15,
     "metadata": {},
     "output_type": "execute_result"
    }
   ],
   "source": [
    "set1"
   ]
  },
  {
   "cell_type": "code",
   "execution_count": 16,
   "id": "e9e9ed24-c09c-42ff-ae6a-dd367db855d6",
   "metadata": {},
   "outputs": [
    {
     "data": {
      "text/plain": [
       "{4, 5, 6, 7, 8, 9}"
      ]
     },
     "execution_count": 16,
     "metadata": {},
     "output_type": "execute_result"
    }
   ],
   "source": [
    "set2"
   ]
  },
  {
   "cell_type": "code",
   "execution_count": 17,
   "id": "9e945c53-a49f-4bc3-87b3-76126ac77b1c",
   "metadata": {},
   "outputs": [],
   "source": [
    "common = set1.intersection(set2)"
   ]
  },
  {
   "cell_type": "code",
   "execution_count": 18,
   "id": "b754d657-b62f-44b9-8b0e-d9d9cf841e5e",
   "metadata": {},
   "outputs": [
    {
     "name": "stdout",
     "output_type": "stream",
     "text": [
      "{4, 5, 6}\n"
     ]
    }
   ],
   "source": [
    "print(common)"
   ]
  },
  {
   "cell_type": "code",
   "execution_count": 19,
   "id": "07aab50e-578c-4e9b-b874-0363cd0c7925",
   "metadata": {},
   "outputs": [],
   "source": [
    "not_common = set1.symmetric_difference(set2)"
   ]
  },
  {
   "cell_type": "code",
   "execution_count": 20,
   "id": "fbb41f1f-c66f-4740-9c8a-5cff5137c101",
   "metadata": {},
   "outputs": [
    {
     "name": "stdout",
     "output_type": "stream",
     "text": [
      "{1, 2, 3, 7, 8, 9}\n"
     ]
    }
   ],
   "source": [
    "print(not_common)"
   ]
  },
  {
   "cell_type": "code",
   "execution_count": 21,
   "id": "1d03ad82-2d1f-49ee-b62d-fe0049b6cf97",
   "metadata": {},
   "outputs": [],
   "source": [
    "union = set1.union(set2)"
   ]
  },
  {
   "cell_type": "code",
   "execution_count": 22,
   "id": "b4661969-b22d-4739-8c93-922ba4a37728",
   "metadata": {},
   "outputs": [
    {
     "name": "stdout",
     "output_type": "stream",
     "text": [
      "{1, 2, 3, 4, 5, 6, 7, 8, 9}\n"
     ]
    }
   ],
   "source": [
    "print(union)"
   ]
  },
  {
   "cell_type": "markdown",
   "id": "7be70eb9-215f-4543-a63d-1a9584f40e0a",
   "metadata": {},
   "source": [
    "## ***Question No.4***"
   ]
  },
  {
   "cell_type": "markdown",
   "id": "23245877-d425-4714-bded-60e80b639130",
   "metadata": {},
   "source": [
    "You are given a nested data structure:\n",
    "\n",
    "student = {\n",
    "    \"name\": \"Ali\",\n",
    "    \"details\": {\n",
    "        \"age\": 20,\n",
    "        \"subjects\": [\"Math\", \"Science\", \"Python\"]\n",
    "    }\n",
    "}\n",
    "\n",
    "\n",
    "Print the student’s age.\n",
    "\n",
    "Add a new subject \"SQL\" to the list of subjects.\n",
    "\n",
    "Change the age to 21.\n",
    "\n",
    "Print the updated dictionary."
   ]
  },
  {
   "cell_type": "markdown",
   "id": "224ccb44-34ca-4bc5-aac8-cf44c58039f2",
   "metadata": {},
   "source": [
    "## ***Answer No.4***"
   ]
  },
  {
   "cell_type": "code",
   "execution_count": 23,
   "id": "504856cb-a183-4479-9f18-dcf47f6f106d",
   "metadata": {},
   "outputs": [],
   "source": [
    "student = {\n",
    "    \"name\": \"Ali\",\n",
    "    \"details\": {\n",
    "        \"age\": 20,\n",
    "        \"subjects\": [\"Math\", \"Science\", \"Python\"]\n",
    "    }\n",
    "}"
   ]
  },
  {
   "cell_type": "code",
   "execution_count": 24,
   "id": "d044f591-d2fb-4b2e-9ef5-36c0b4d5243e",
   "metadata": {},
   "outputs": [
    {
     "name": "stdout",
     "output_type": "stream",
     "text": [
      "20\n"
     ]
    }
   ],
   "source": [
    "print(student[\"details\"][\"age\"])"
   ]
  },
  {
   "cell_type": "code",
   "execution_count": 25,
   "id": "e7c2c7bf-a7f7-46e5-b882-0c6efcd460ba",
   "metadata": {},
   "outputs": [],
   "source": [
    "student[\"details\"][\"subjects\"].append(\"SQL\")"
   ]
  },
  {
   "cell_type": "code",
   "execution_count": 26,
   "id": "32af70f9-ad11-4ead-a10d-1c7cefc8033e",
   "metadata": {},
   "outputs": [
    {
     "name": "stdout",
     "output_type": "stream",
     "text": [
      "{'name': 'Ali', 'details': {'age': 20, 'subjects': ['Math', 'Science', 'Python', 'SQL']}}\n"
     ]
    }
   ],
   "source": [
    "print(student)"
   ]
  },
  {
   "cell_type": "code",
   "execution_count": 27,
   "id": "028b129d-7799-4faa-ba62-b0a37f3b70b5",
   "metadata": {},
   "outputs": [],
   "source": [
    "student[\"details\"][\"age\"] = 21"
   ]
  },
  {
   "cell_type": "code",
   "execution_count": 28,
   "id": "97d6637c-72f4-4835-9bb3-7967d582c036",
   "metadata": {},
   "outputs": [
    {
     "name": "stdout",
     "output_type": "stream",
     "text": [
      "{'name': 'Ali', 'details': {'age': 21, 'subjects': ['Math', 'Science', 'Python', 'SQL']}}\n"
     ]
    }
   ],
   "source": [
    "print(student)"
   ]
  },
  {
   "cell_type": "markdown",
   "id": "bd433759-07c6-487c-b921-f141e0244217",
   "metadata": {},
   "source": [
    "## ***Question No.5***"
   ]
  },
  {
   "cell_type": "markdown",
   "id": "20ae118f-947d-42c7-8198-398a21930ebc",
   "metadata": {},
   "source": [
    "Write a program that asks the user for:\n",
    "\n",
    "Age\n",
    "\n",
    "Marks\n",
    "\n",
    "If age is greater than 18 and marks ≥ 60 → print \"Eligible for Admission\".\n",
    "\n",
    "If age is less than 18 but marks ≥ 80 → print \"Exceptional Admission\".\n",
    "\n",
    "Otherwise → print \"Not Eligible\"."
   ]
  },
  {
   "cell_type": "markdown",
   "id": "09aa9f8e-8b23-48da-97ad-24dcefa80386",
   "metadata": {},
   "source": [
    "## ***Answer No.5***"
   ]
  },
  {
   "cell_type": "code",
   "execution_count": 34,
   "id": "dfd9c35a-9906-48c9-b587-1de078a2d93f",
   "metadata": {},
   "outputs": [
    {
     "name": "stdin",
     "output_type": "stream",
     "text": [
      "Please enter your age: 17\n"
     ]
    }
   ],
   "source": [
    "age = float(input(\"Please enter your age:\"))"
   ]
  },
  {
   "cell_type": "code",
   "execution_count": 35,
   "id": "bd81b7f0-e07b-4fa3-b1d9-07a75c7f2345",
   "metadata": {},
   "outputs": [
    {
     "name": "stdin",
     "output_type": "stream",
     "text": [
      "Please enter your marks: 82\n"
     ]
    }
   ],
   "source": [
    "marks = float(input(\"Please enter your marks:\"))"
   ]
  },
  {
   "cell_type": "code",
   "execution_count": 36,
   "id": "d3522772-83a7-4f15-8ff5-748ef3be582e",
   "metadata": {},
   "outputs": [
    {
     "name": "stdout",
     "output_type": "stream",
     "text": [
      "Exceptional Admission\n"
     ]
    }
   ],
   "source": [
    "if age >= 18 and marks >= 60:\n",
    "    print(f\"Eligible for Admission\")\n",
    "elif age < 18 and marks >= 80:\n",
    "    print(f\"Exceptional Admission\")\n",
    "else:\n",
    "    print(f\"Not Eligible\")"
   ]
  },
  {
   "cell_type": "markdown",
   "id": "4bf5f7b9-e1c9-45ab-a8a2-b978a301cae2",
   "metadata": {},
   "source": [
    "## ***Question No.6***"
   ]
  },
  {
   "cell_type": "markdown",
   "id": "15640d80-7846-4b6f-9e49-a6b7780d9a15",
   "metadata": {},
   "source": [
    "You are given a list of numbers:\n",
    "\n",
    "numbers = [12, 7, 19, 4, 15, 8]\n",
    "\n",
    "\n",
    "Print only the even numbers from the list.\n",
    "\n",
    "Print the sum of odd numbers.\n",
    "\n",
    "Replace the number 19 with 20.\n",
    "\n",
    "Sort the list in ascending order and print it."
   ]
  },
  {
   "cell_type": "markdown",
   "id": "7cf45234-84ae-486c-828d-fc96da4d504e",
   "metadata": {},
   "source": [
    "## ***Answer No.6***"
   ]
  },
  {
   "cell_type": "code",
   "execution_count": 37,
   "id": "d9077652-e54d-4319-835e-68234c4f81a4",
   "metadata": {},
   "outputs": [],
   "source": [
    "numbers = [12, 7, 19, 4, 15, 8]"
   ]
  },
  {
   "cell_type": "code",
   "execution_count": 46,
   "id": "437fd9a6-0302-4753-a2d9-fe005680fef4",
   "metadata": {},
   "outputs": [
    {
     "name": "stdout",
     "output_type": "stream",
     "text": [
      "Even Number: [12, 4, 8]\n"
     ]
    }
   ],
   "source": [
    "print(\"Even Number:\" , [num for num in numbers if num % 2 == 0])"
   ]
  },
  {
   "cell_type": "code",
   "execution_count": 49,
   "id": "b67b584d-fe8e-4b71-ab22-ffa12cde1536",
   "metadata": {},
   "outputs": [
    {
     "name": "stdout",
     "output_type": "stream",
     "text": [
      "Sum of Odd Numbers: 41\n"
     ]
    }
   ],
   "source": [
    "print(\"Sum of Odd Numbers:\", sum([num for num in numbers if num % 2 != 0]))"
   ]
  },
  {
   "cell_type": "code",
   "execution_count": 53,
   "id": "506cf62d-7203-4954-b82c-9439fbb79d14",
   "metadata": {},
   "outputs": [],
   "source": [
    "index = numbers.index(19)"
   ]
  },
  {
   "cell_type": "code",
   "execution_count": 54,
   "id": "ac8479b8-0612-413a-8e5f-2d3b0e7fd3d1",
   "metadata": {},
   "outputs": [],
   "source": [
    "numbers[index] = 20"
   ]
  },
  {
   "cell_type": "code",
   "execution_count": 55,
   "id": "fc431ac4-034c-4e31-9c67-9946cb42c10f",
   "metadata": {},
   "outputs": [
    {
     "name": "stdout",
     "output_type": "stream",
     "text": [
      "[12, 7, 20, 4, 15, 8]\n"
     ]
    }
   ],
   "source": [
    "print(numbers)"
   ]
  },
  {
   "cell_type": "code",
   "execution_count": 57,
   "id": "b6b66110-2c3c-49c4-bc38-28b20d7d0e47",
   "metadata": {},
   "outputs": [],
   "source": [
    "numbers.sort()"
   ]
  },
  {
   "cell_type": "code",
   "execution_count": 58,
   "id": "8a4e6afb-5768-435e-a93b-cce0034542aa",
   "metadata": {},
   "outputs": [
    {
     "data": {
      "text/plain": [
       "[4, 7, 8, 12, 15, 20]"
      ]
     },
     "execution_count": 58,
     "metadata": {},
     "output_type": "execute_result"
    }
   ],
   "source": [
    "numbers"
   ]
  },
  {
   "cell_type": "markdown",
   "id": "cf1bc9a8-2333-403c-b849-d79dcb1d540b",
   "metadata": {},
   "source": [
    "## ***Question No.7***"
   ]
  },
  {
   "cell_type": "markdown",
   "id": "abe493b7-4627-4bdf-aa39-d5544dbe68cb",
   "metadata": {},
   "source": [
    "Given the string:\n",
    "\n",
    "\n",
    "text = \"Data Analytics with Python is interesting\"\n",
    "\n",
    "\n",
    "Convert the string into a list of words.\n",
    "\n",
    "Count how many words the string has.\n",
    "\n",
    "Replace the word \"Python\" with \"SQL\".\n",
    "\n",
    "Join the list back into a single string (words separated by -)."
   ]
  },
  {
   "cell_type": "markdown",
   "id": "5de17761-465f-4953-aaeb-9c0fa6a262a0",
   "metadata": {},
   "source": [
    "## ***Answer No.7***"
   ]
  },
  {
   "cell_type": "code",
   "execution_count": 67,
   "id": "656151d1-84b3-42e7-90f2-e5d2ccc97198",
   "metadata": {},
   "outputs": [],
   "source": [
    "words = text.split()"
   ]
  },
  {
   "cell_type": "code",
   "execution_count": 68,
   "id": "184dbaab-b9b0-4ee7-b16a-908c4d708a22",
   "metadata": {},
   "outputs": [
    {
     "data": {
      "text/plain": [
       "['Data', 'Analytics', 'with', 'Python', 'is', 'interesting']"
      ]
     },
     "execution_count": 68,
     "metadata": {},
     "output_type": "execute_result"
    }
   ],
   "source": [
    "words"
   ]
  },
  {
   "cell_type": "code",
   "execution_count": 69,
   "id": "f374926f-7444-494a-a2af-735cbe0606f2",
   "metadata": {},
   "outputs": [],
   "source": [
    "count = len(words)"
   ]
  },
  {
   "cell_type": "code",
   "execution_count": 70,
   "id": "bedf7dc5-deb1-4dec-92f0-716dab4c1efe",
   "metadata": {},
   "outputs": [
    {
     "data": {
      "text/plain": [
       "6"
      ]
     },
     "execution_count": 70,
     "metadata": {},
     "output_type": "execute_result"
    }
   ],
   "source": [
    "count"
   ]
  },
  {
   "cell_type": "code",
   "execution_count": 71,
   "id": "f9cbf3a3-8b8d-47be-9028-aed6b483fb4d",
   "metadata": {},
   "outputs": [],
   "source": [
    "words[words.index(\"Python\")] = \"SQL\""
   ]
  },
  {
   "cell_type": "code",
   "execution_count": 72,
   "id": "e30c1db0-b679-48a7-b661-61176cf90e75",
   "metadata": {},
   "outputs": [
    {
     "data": {
      "text/plain": [
       "['Data', 'Analytics', 'with', 'SQL', 'is', 'interesting']"
      ]
     },
     "execution_count": 72,
     "metadata": {},
     "output_type": "execute_result"
    }
   ],
   "source": [
    "words"
   ]
  },
  {
   "cell_type": "code",
   "execution_count": 74,
   "id": "b6cab167-aeab-4f6c-9761-c6a27fa4e11f",
   "metadata": {},
   "outputs": [],
   "source": [
    "new_string = \"-\".join(words)"
   ]
  },
  {
   "cell_type": "code",
   "execution_count": 75,
   "id": "b2d62699-f294-4b46-905c-24746f00bf58",
   "metadata": {},
   "outputs": [
    {
     "name": "stdout",
     "output_type": "stream",
     "text": [
      "Data-Analytics-with-SQL-is-interesting\n"
     ]
    }
   ],
   "source": [
    "print(new_string)"
   ]
  },
  {
   "cell_type": "markdown",
   "id": "2e0a9689-c2b8-4a0b-af7d-688628215ee9",
   "metadata": {},
   "source": [
    "## ***Question No.8***"
   ]
  },
  {
   "cell_type": "markdown",
   "id": "4cc8d070-5b80-4d5c-97e4-e5123817f3b1",
   "metadata": {},
   "source": [
    "Write a Python program that takes a sentence from the user.\n",
    "\n",
    "Count how many vowels (a, e, i, o, u) are in the sentence.\n",
    "\n",
    "Count how many consonants are in the sentence.\n",
    "\n",
    "Print both counts."
   ]
  },
  {
   "cell_type": "markdown",
   "id": "4cc5db12-239e-461b-b6f7-fe071f92aa8d",
   "metadata": {},
   "source": [
    "## ***Answer No.8***"
   ]
  },
  {
   "cell_type": "code",
   "execution_count": 80,
   "id": "3bc590a5-8159-4435-9731-5c5bf8fc1f8b",
   "metadata": {},
   "outputs": [
    {
     "name": "stdin",
     "output_type": "stream",
     "text": [
      "Please write here: hello\n"
     ]
    }
   ],
   "source": [
    "sentence = input(\"Please write here:\").lower()"
   ]
  },
  {
   "cell_type": "code",
   "execution_count": 81,
   "id": "60770f34-78a0-490d-be3e-f2ae6834394d",
   "metadata": {},
   "outputs": [],
   "source": [
    "vowels = \"aeiou\""
   ]
  },
  {
   "cell_type": "code",
   "execution_count": 82,
   "id": "56579905-d748-457d-b148-a52ed1210c8b",
   "metadata": {},
   "outputs": [],
   "source": [
    "vowels_count = 0"
   ]
  },
  {
   "cell_type": "code",
   "execution_count": 83,
   "id": "c443f9c5-18b6-4cb4-adfd-f1a5f70b7a42",
   "metadata": {},
   "outputs": [],
   "source": [
    "consonant_count = 0"
   ]
  },
  {
   "cell_type": "code",
   "execution_count": 85,
   "id": "3041564f-3952-4f18-9c95-93b174dba4a1",
   "metadata": {},
   "outputs": [],
   "source": [
    "for character in sentence:\n",
    "    if character in vowels:\n",
    "        vowels_count += 1\n",
    "    elif character .isalpha():\n",
    "        consonant_count += 1"
   ]
  },
  {
   "cell_type": "code",
   "execution_count": 86,
   "id": "4aa80e72-f8b4-44be-a7bc-8c7e499b6087",
   "metadata": {},
   "outputs": [
    {
     "name": "stdout",
     "output_type": "stream",
     "text": [
      "2\n"
     ]
    }
   ],
   "source": [
    "print(vowels_count)"
   ]
  },
  {
   "cell_type": "code",
   "execution_count": 87,
   "id": "eea1fa1c-41be-499b-8646-4b4b0cd6457e",
   "metadata": {},
   "outputs": [
    {
     "name": "stdout",
     "output_type": "stream",
     "text": [
      "3\n"
     ]
    }
   ],
   "source": [
    "print(consonant_count)"
   ]
  },
  {
   "cell_type": "code",
   "execution_count": null,
   "id": "610a4c80-85ac-4010-9bc5-0240ca04bcac",
   "metadata": {},
   "outputs": [],
   "source": []
  }
 ],
 "metadata": {
  "kernelspec": {
   "display_name": "Python [conda env:base] *",
   "language": "python",
   "name": "conda-base-py"
  },
  "language_info": {
   "codemirror_mode": {
    "name": "ipython",
    "version": 3
   },
   "file_extension": ".py",
   "mimetype": "text/x-python",
   "name": "python",
   "nbconvert_exporter": "python",
   "pygments_lexer": "ipython3",
   "version": "3.13.5"
  }
 },
 "nbformat": 4,
 "nbformat_minor": 5
}
